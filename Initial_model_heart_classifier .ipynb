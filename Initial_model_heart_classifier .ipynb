{
 "cells": [
  {
   "cell_type": "markdown",
   "id": "39952bac-ffbf-435b-8e1a-0a3725481271",
   "metadata": {},
   "source": [
    "# Libraries"
   ]
  },
  {
   "cell_type": "code",
   "execution_count": 219,
   "id": "86c81fe7-41e5-415d-bd22-56ff70ee303c",
   "metadata": {},
   "outputs": [],
   "source": [
    "from sklearn.model_selection import train_test_split\n",
    "from sklearn.feature_selection import SelectKBest\n",
    "from sklearn.preprocessing import StandardScaler\n",
    "from sklearn.feature_selection import f_classif\n",
    "import tensorflow as tf\n",
    "import tensorflow\n",
    "from tensorflow.keras.layers import Dense, InputLayer\n",
    "from tensorflow.keras.optimizers import Adam\n",
    "from tensorflow.keras.losses import BinaryCrossentropy\n",
    "from tensorflow.keras import Sequential\n",
    "import matplotlib.pyplot as plt\n",
    "from tensorflow.keras.utils import to_categorical\n",
    "import seaborn as sns\n",
    "import pandas as pd\n",
    "import numpy as np\n",
    "np.random.seed(5)\n",
    "tf.random.set_seed(5)"
   ]
  },
  {
   "cell_type": "code",
   "execution_count": 220,
   "id": "be8b9e8c-2381-42e4-b16c-d169ff344e1c",
   "metadata": {},
   "outputs": [],
   "source": [
    "df = pd.read_csv(\"dataset/heart.csv\")"
   ]
  },
  {
   "cell_type": "code",
   "execution_count": 221,
   "id": "d16b0156-0444-49bb-a482-47b5d73a181f",
   "metadata": {},
   "outputs": [
    {
     "data": {
      "text/html": [
       "<div>\n",
       "<style scoped>\n",
       "    .dataframe tbody tr th:only-of-type {\n",
       "        vertical-align: middle;\n",
       "    }\n",
       "\n",
       "    .dataframe tbody tr th {\n",
       "        vertical-align: top;\n",
       "    }\n",
       "\n",
       "    .dataframe thead th {\n",
       "        text-align: right;\n",
       "    }\n",
       "</style>\n",
       "<table border=\"1\" class=\"dataframe\">\n",
       "  <thead>\n",
       "    <tr style=\"text-align: right;\">\n",
       "      <th></th>\n",
       "      <th>age</th>\n",
       "      <th>sex</th>\n",
       "      <th>cp</th>\n",
       "      <th>trestbps</th>\n",
       "      <th>chol</th>\n",
       "      <th>fbs</th>\n",
       "      <th>restecg</th>\n",
       "      <th>thalach</th>\n",
       "      <th>exang</th>\n",
       "      <th>oldpeak</th>\n",
       "      <th>slope</th>\n",
       "      <th>ca</th>\n",
       "      <th>thal</th>\n",
       "      <th>target</th>\n",
       "    </tr>\n",
       "  </thead>\n",
       "  <tbody>\n",
       "    <tr>\n",
       "      <th>0</th>\n",
       "      <td>52</td>\n",
       "      <td>1</td>\n",
       "      <td>0</td>\n",
       "      <td>125</td>\n",
       "      <td>212</td>\n",
       "      <td>0</td>\n",
       "      <td>1</td>\n",
       "      <td>168</td>\n",
       "      <td>0</td>\n",
       "      <td>1.0</td>\n",
       "      <td>2</td>\n",
       "      <td>2</td>\n",
       "      <td>3</td>\n",
       "      <td>0</td>\n",
       "    </tr>\n",
       "    <tr>\n",
       "      <th>1</th>\n",
       "      <td>53</td>\n",
       "      <td>1</td>\n",
       "      <td>0</td>\n",
       "      <td>140</td>\n",
       "      <td>203</td>\n",
       "      <td>1</td>\n",
       "      <td>0</td>\n",
       "      <td>155</td>\n",
       "      <td>1</td>\n",
       "      <td>3.1</td>\n",
       "      <td>0</td>\n",
       "      <td>0</td>\n",
       "      <td>3</td>\n",
       "      <td>0</td>\n",
       "    </tr>\n",
       "    <tr>\n",
       "      <th>2</th>\n",
       "      <td>70</td>\n",
       "      <td>1</td>\n",
       "      <td>0</td>\n",
       "      <td>145</td>\n",
       "      <td>174</td>\n",
       "      <td>0</td>\n",
       "      <td>1</td>\n",
       "      <td>125</td>\n",
       "      <td>1</td>\n",
       "      <td>2.6</td>\n",
       "      <td>0</td>\n",
       "      <td>0</td>\n",
       "      <td>3</td>\n",
       "      <td>0</td>\n",
       "    </tr>\n",
       "    <tr>\n",
       "      <th>3</th>\n",
       "      <td>61</td>\n",
       "      <td>1</td>\n",
       "      <td>0</td>\n",
       "      <td>148</td>\n",
       "      <td>203</td>\n",
       "      <td>0</td>\n",
       "      <td>1</td>\n",
       "      <td>161</td>\n",
       "      <td>0</td>\n",
       "      <td>0.0</td>\n",
       "      <td>2</td>\n",
       "      <td>1</td>\n",
       "      <td>3</td>\n",
       "      <td>0</td>\n",
       "    </tr>\n",
       "    <tr>\n",
       "      <th>4</th>\n",
       "      <td>62</td>\n",
       "      <td>0</td>\n",
       "      <td>0</td>\n",
       "      <td>138</td>\n",
       "      <td>294</td>\n",
       "      <td>1</td>\n",
       "      <td>1</td>\n",
       "      <td>106</td>\n",
       "      <td>0</td>\n",
       "      <td>1.9</td>\n",
       "      <td>1</td>\n",
       "      <td>3</td>\n",
       "      <td>2</td>\n",
       "      <td>0</td>\n",
       "    </tr>\n",
       "  </tbody>\n",
       "</table>\n",
       "</div>"
      ],
      "text/plain": [
       "   age  sex  cp  trestbps  chol  fbs  restecg  thalach  exang  oldpeak  slope  \\\n",
       "0   52    1   0       125   212    0        1      168      0      1.0      2   \n",
       "1   53    1   0       140   203    1        0      155      1      3.1      0   \n",
       "2   70    1   0       145   174    0        1      125      1      2.6      0   \n",
       "3   61    1   0       148   203    0        1      161      0      0.0      2   \n",
       "4   62    0   0       138   294    1        1      106      0      1.9      1   \n",
       "\n",
       "   ca  thal  target  \n",
       "0   2     3       0  \n",
       "1   0     3       0  \n",
       "2   0     3       0  \n",
       "3   1     3       0  \n",
       "4   3     2       0  "
      ]
     },
     "execution_count": 221,
     "metadata": {},
     "output_type": "execute_result"
    }
   ],
   "source": [
    "df.head()"
   ]
  },
  {
   "cell_type": "markdown",
   "id": "e934d530-c26f-468a-8097-f4256154873d",
   "metadata": {},
   "source": [
    "# Selecting top 10 most Contributing Features"
   ]
  },
  {
   "cell_type": "code",
   "execution_count": 222,
   "id": "b2fcfe4c-d811-4411-b1ea-4f6d5295203a",
   "metadata": {},
   "outputs": [],
   "source": [
    "bestfeatures = SelectKBest(score_func=f_classif, k=10)"
   ]
  },
  {
   "cell_type": "code",
   "execution_count": 223,
   "id": "64561cad-45ae-4fc3-9561-07039283a7f2",
   "metadata": {},
   "outputs": [],
   "source": [
    "fit = bestfeatures.fit(df.drop(['target'], axis = 1), df['target'])"
   ]
  },
  {
   "cell_type": "code",
   "execution_count": 224,
   "id": "6bd42ca3-536e-4c3d-9de6-9179ea7695b5",
   "metadata": {},
   "outputs": [
    {
     "name": "stdout",
     "output_type": "stream",
     "text": [
      "       Specs       Score\n",
      "9    oldpeak  243.450780\n",
      "8      exang  242.883889\n",
      "2         cp  238.558457\n",
      "7    thalach  222.799538\n",
      "11        ca  174.877078\n",
      "10     slope  138.679393\n",
      "12      thal  131.802996\n",
      "1        sex   86.689707\n",
      "0        age   56.785135\n",
      "3   trestbps   20.087353\n"
     ]
    }
   ],
   "source": [
    "dfscores = pd.DataFrame(fit.scores_)\n",
    "dfcolumns = pd.DataFrame(df.columns)\n",
    "featureScores = pd.concat([dfcolumns, dfscores], axis=1)\n",
    "featureScores.columns = ['Specs','Score']\n",
    "print(featureScores.nlargest(10,'Score'))"
   ]
  },
  {
   "cell_type": "markdown",
   "id": "0b3d0139-12e2-4895-9d16-8c0edf65eb50",
   "metadata": {},
   "source": [
    "# Splitting the data & Pipelining the model"
   ]
  },
  {
   "cell_type": "code",
   "execution_count": 243,
   "id": "9bb49aea-409a-4add-b482-ad1d92ed540a",
   "metadata": {},
   "outputs": [],
   "source": [
    "X = df.drop(['target', 'fbs', 'restecg', 'chol'], axis = 1).values\n",
    "y = to_categorical(df['target'].values)\n",
    "X_train, X_test, y_train, y_test = train_test_split(X, y, test_size=0.1, random_state=5)"
   ]
  },
  {
   "cell_type": "markdown",
   "id": "f0c626f6-bf4b-4acd-984f-2c74dbd9c5a1",
   "metadata": {},
   "source": [
    "# Taking Two User from test data for finetuning"
   ]
  },
  {
   "cell_type": "code",
   "execution_count": 244,
   "id": "fe33b258-20b8-46e0-8e75-5318d2cbbe02",
   "metadata": {},
   "outputs": [],
   "source": [
    "user_data_X = X_test[0:1]\n",
    "user_data_y = y_test[0:1]\n",
    "\n",
    "X_test = np.delete(X_test, [0, 1], 0)\n",
    "y_test = np.delete(y_test, [0, 1], 0)"
   ]
  },
  {
   "cell_type": "markdown",
   "id": "2ffa4b89-4cdb-4651-b4ca-4089da1d9288",
   "metadata": {},
   "source": [
    "# Training the model for the first time"
   ]
  },
  {
   "cell_type": "code",
   "execution_count": 245,
   "id": "0fe5cf21-a9f8-429f-bbe7-78d17cb08deb",
   "metadata": {},
   "outputs": [
    {
     "name": "stdout",
     "output_type": "stream",
     "text": [
      "Epoch 1/50\n",
      "29/29 [==============================] - 0s 2ms/step - loss: 26.2877 - accuracy: 0.5119\n",
      "Epoch 2/50\n",
      "29/29 [==============================] - 0s 1ms/step - loss: 18.0521 - accuracy: 0.5119\n",
      "Epoch 3/50\n",
      "29/29 [==============================] - 0s 1ms/step - loss: 12.9574 - accuracy: 0.5119\n",
      "Epoch 4/50\n",
      "29/29 [==============================] - 0s 1ms/step - loss: 8.7556 - accuracy: 0.5119\n",
      "Epoch 5/50\n",
      "29/29 [==============================] - 0s 1ms/step - loss: 5.5779 - accuracy: 0.5119\n",
      "Epoch 6/50\n",
      "29/29 [==============================] - 0s 1ms/step - loss: 3.1694 - accuracy: 0.5119\n",
      "Epoch 7/50\n",
      "29/29 [==============================] - 0s 1ms/step - loss: 1.3886 - accuracy: 0.5347\n",
      "Epoch 8/50\n",
      "29/29 [==============================] - 0s 1ms/step - loss: 0.9598 - accuracy: 0.5380\n",
      "Epoch 9/50\n",
      "29/29 [==============================] - 0s 2ms/step - loss: 0.8808 - accuracy: 0.5531\n",
      "Epoch 10/50\n",
      "29/29 [==============================] - 0s 2ms/step - loss: 0.8181 - accuracy: 0.5868\n",
      "Epoch 11/50\n",
      "29/29 [==============================] - 0s 1ms/step - loss: 0.7636 - accuracy: 0.6258\n",
      "Epoch 12/50\n",
      "29/29 [==============================] - 0s 1ms/step - loss: 0.7251 - accuracy: 0.6540\n",
      "Epoch 13/50\n",
      "29/29 [==============================] - 0s 2ms/step - loss: 0.6925 - accuracy: 0.7137\n",
      "Epoch 14/50\n",
      "29/29 [==============================] - 0s 2ms/step - loss: 0.6682 - accuracy: 0.7397\n",
      "Epoch 15/50\n",
      "29/29 [==============================] - 0s 1ms/step - loss: 0.6426 - accuracy: 0.7711\n",
      "Epoch 16/50\n",
      "29/29 [==============================] - 0s 1ms/step - loss: 0.6230 - accuracy: 0.7809\n",
      "Epoch 17/50\n",
      "29/29 [==============================] - 0s 1ms/step - loss: 0.6083 - accuracy: 0.7852\n",
      "Epoch 18/50\n",
      "29/29 [==============================] - 0s 1ms/step - loss: 0.5949 - accuracy: 0.7961\n",
      "Epoch 19/50\n",
      "29/29 [==============================] - 0s 1ms/step - loss: 0.5851 - accuracy: 0.7831\n",
      "Epoch 20/50\n",
      "29/29 [==============================] - 0s 2ms/step - loss: 0.5765 - accuracy: 0.7907\n",
      "Epoch 21/50\n",
      "29/29 [==============================] - 0s 2ms/step - loss: 0.5671 - accuracy: 0.8048\n",
      "Epoch 22/50\n",
      "29/29 [==============================] - 0s 1ms/step - loss: 0.5695 - accuracy: 0.7831\n",
      "Epoch 23/50\n",
      "29/29 [==============================] - 0s 1ms/step - loss: 0.5563 - accuracy: 0.8059\n",
      "Epoch 24/50\n",
      "29/29 [==============================] - 0s 2ms/step - loss: 0.5562 - accuracy: 0.7983\n",
      "Epoch 25/50\n",
      "29/29 [==============================] - 0s 1ms/step - loss: 0.5534 - accuracy: 0.8059\n",
      "Epoch 26/50\n",
      "29/29 [==============================] - 0s 1ms/step - loss: 0.5446 - accuracy: 0.8080\n",
      "Epoch 27/50\n",
      "29/29 [==============================] - 0s 1ms/step - loss: 0.5438 - accuracy: 0.7983\n",
      "Epoch 28/50\n",
      "29/29 [==============================] - 0s 1ms/step - loss: 0.5380 - accuracy: 0.8069\n",
      "Epoch 29/50\n",
      "29/29 [==============================] - 0s 1ms/step - loss: 0.5349 - accuracy: 0.8113\n",
      "Epoch 30/50\n",
      "29/29 [==============================] - 0s 3ms/step - loss: 0.5313 - accuracy: 0.8026\n",
      "Epoch 31/50\n",
      "29/29 [==============================] - 0s 2ms/step - loss: 0.5291 - accuracy: 0.8134\n",
      "Epoch 32/50\n",
      "29/29 [==============================] - 0s 1ms/step - loss: 0.5244 - accuracy: 0.8124\n",
      "Epoch 33/50\n",
      "29/29 [==============================] - 0s 1ms/step - loss: 0.5221 - accuracy: 0.8145\n",
      "Epoch 34/50\n",
      "29/29 [==============================] - 0s 1ms/step - loss: 0.5187 - accuracy: 0.8059\n",
      "Epoch 35/50\n",
      "29/29 [==============================] - 0s 1ms/step - loss: 0.5166 - accuracy: 0.8156\n",
      "Epoch 36/50\n",
      "29/29 [==============================] - 0s 1ms/step - loss: 0.5122 - accuracy: 0.8080\n",
      "Epoch 37/50\n",
      "29/29 [==============================] - 0s 1ms/step - loss: 0.5129 - accuracy: 0.8102\n",
      "Epoch 38/50\n",
      "29/29 [==============================] - 0s 1ms/step - loss: 0.5147 - accuracy: 0.8091\n",
      "Epoch 39/50\n",
      "29/29 [==============================] - 0s 1ms/step - loss: 0.5068 - accuracy: 0.8048\n",
      "Epoch 40/50\n",
      "29/29 [==============================] - 0s 2ms/step - loss: 0.5003 - accuracy: 0.8243\n",
      "Epoch 41/50\n",
      "29/29 [==============================] - 0s 1ms/step - loss: 0.4992 - accuracy: 0.8189\n",
      "Epoch 42/50\n",
      "29/29 [==============================] - 0s 2ms/step - loss: 0.4961 - accuracy: 0.8134\n",
      "Epoch 43/50\n",
      "29/29 [==============================] - 0s 1ms/step - loss: 0.4925 - accuracy: 0.8124\n",
      "Epoch 44/50\n",
      "29/29 [==============================] - 0s 1ms/step - loss: 0.4866 - accuracy: 0.8113\n",
      "Epoch 45/50\n",
      "29/29 [==============================] - 0s 1ms/step - loss: 0.4860 - accuracy: 0.8113\n",
      "Epoch 46/50\n",
      "29/29 [==============================] - 0s 2ms/step - loss: 0.4806 - accuracy: 0.8156\n",
      "Epoch 47/50\n",
      "29/29 [==============================] - 0s 1ms/step - loss: 0.4798 - accuracy: 0.8167\n",
      "Epoch 48/50\n",
      "29/29 [==============================] - 0s 2ms/step - loss: 0.4762 - accuracy: 0.8254\n",
      "Epoch 49/50\n",
      "29/29 [==============================] - 0s 2ms/step - loss: 0.4731 - accuracy: 0.8221\n",
      "Epoch 50/50\n",
      "29/29 [==============================] - 0s 1ms/step - loss: 0.4773 - accuracy: 0.8091\n"
     ]
    }
   ],
   "source": [
    "model = Sequential()\n",
    "model.add(Dense(16, input_dim=10, activation='relu'))\n",
    "model.add(Dense(2, activation='softmax'))\n",
    "model.compile(optimizer='adam', loss='binary_crossentropy', metrics=['accuracy'])\n",
    "history = model.fit(X_train, y_train, epochs=50, shuffle=True)"
   ]
  },
  {
   "cell_type": "code",
   "execution_count": 246,
   "id": "aa04f069-4413-4d51-a0d5-44fb94d99c98",
   "metadata": {},
   "outputs": [
    {
     "name": "stdout",
     "output_type": "stream",
     "text": [
      "4/4 [==============================] - 0s 6ms/step - loss: 0.4388 - accuracy: 0.8515\n"
     ]
    },
    {
     "data": {
      "text/plain": [
       "[0.43876913189888, 0.8514851331710815]"
      ]
     },
     "execution_count": 246,
     "metadata": {},
     "output_type": "execute_result"
    }
   ],
   "source": [
    "model.evaluate(X_test, y_test)"
   ]
  },
  {
   "cell_type": "code",
   "execution_count": 247,
   "id": "e2d8dd31-9efb-4926-a647-996329ef3f5c",
   "metadata": {},
   "outputs": [],
   "source": [
    "model.save(\"Heart_Classifier_NN_v1_orig.keras\")"
   ]
  },
  {
   "cell_type": "markdown",
   "id": "e6cb3927-9173-47b9-b199-30792ca05ae9",
   "metadata": {},
   "source": [
    "# Finetuning the model with one data"
   ]
  },
  {
   "cell_type": "code",
   "execution_count": 248,
   "id": "05d97bc2-34d7-41b0-8ca1-d596c6de6e24",
   "metadata": {},
   "outputs": [
    {
     "name": "stdout",
     "output_type": "stream",
     "text": [
      "Epoch 1/50\n",
      "1/1 [==============================] - 0s 373ms/step - loss: 0.3758 - accuracy: 1.0000\n",
      "Epoch 2/50\n",
      "1/1 [==============================] - 0s 6ms/step - loss: 0.3479 - accuracy: 1.0000\n",
      "Epoch 3/50\n",
      "1/1 [==============================] - 0s 10ms/step - loss: 0.3064 - accuracy: 1.0000\n",
      "Epoch 4/50\n",
      "1/1 [==============================] - 0s 5ms/step - loss: 0.2596 - accuracy: 1.0000\n",
      "Epoch 5/50\n",
      "1/1 [==============================] - 0s 7ms/step - loss: 0.2140 - accuracy: 1.0000\n",
      "Epoch 6/50\n",
      "1/1 [==============================] - 0s 7ms/step - loss: 0.1732 - accuracy: 1.0000\n",
      "Epoch 7/50\n",
      "1/1 [==============================] - 0s 0s/step - loss: 0.1385 - accuracy: 1.0000\n",
      "Epoch 8/50\n",
      "1/1 [==============================] - 0s 17ms/step - loss: 0.1102 - accuracy: 1.0000\n",
      "Epoch 9/50\n",
      "1/1 [==============================] - 0s 4ms/step - loss: 0.0876 - accuracy: 1.0000\n",
      "Epoch 10/50\n",
      "1/1 [==============================] - 0s 11ms/step - loss: 0.0699 - accuracy: 1.0000\n",
      "Epoch 11/50\n",
      "1/1 [==============================] - 0s 5ms/step - loss: 0.0561 - accuracy: 1.0000\n",
      "Epoch 12/50\n",
      "1/1 [==============================] - 0s 6ms/step - loss: 0.0454 - accuracy: 1.0000\n",
      "Epoch 13/50\n",
      "1/1 [==============================] - 0s 4ms/step - loss: 0.0371 - accuracy: 1.0000\n",
      "Epoch 14/50\n",
      "1/1 [==============================] - 0s 13ms/step - loss: 0.0307 - accuracy: 1.0000\n",
      "Epoch 15/50\n",
      "1/1 [==============================] - 0s 6ms/step - loss: 0.0256 - accuracy: 1.0000\n",
      "Epoch 16/50\n",
      "1/1 [==============================] - 0s 6ms/step - loss: 0.0216 - accuracy: 1.0000\n",
      "Epoch 17/50\n",
      "1/1 [==============================] - 0s 5ms/step - loss: 0.0185 - accuracy: 1.0000\n",
      "Epoch 18/50\n",
      "1/1 [==============================] - 0s 4ms/step - loss: 0.0160 - accuracy: 1.0000\n",
      "Epoch 19/50\n",
      "1/1 [==============================] - 0s 45ms/step - loss: 0.0139 - accuracy: 1.0000\n",
      "Epoch 20/50\n",
      "1/1 [==============================] - 0s 6ms/step - loss: 0.0123 - accuracy: 1.0000\n",
      "Epoch 21/50\n",
      "1/1 [==============================] - 0s 5ms/step - loss: 0.0109 - accuracy: 1.0000\n",
      "Epoch 22/50\n",
      "1/1 [==============================] - 0s 6ms/step - loss: 0.0098 - accuracy: 1.0000\n",
      "Epoch 23/50\n",
      "1/1 [==============================] - 0s 5ms/step - loss: 0.0089 - accuracy: 1.0000\n",
      "Epoch 24/50\n",
      "1/1 [==============================] - 0s 8ms/step - loss: 0.0081 - accuracy: 1.0000\n",
      "Epoch 25/50\n",
      "1/1 [==============================] - 0s 11ms/step - loss: 0.0074 - accuracy: 1.0000\n",
      "Epoch 26/50\n",
      "1/1 [==============================] - 0s 4ms/step - loss: 0.0069 - accuracy: 1.0000\n",
      "Epoch 27/50\n",
      "1/1 [==============================] - 0s 5ms/step - loss: 0.0064 - accuracy: 1.0000\n",
      "Epoch 28/50\n",
      "1/1 [==============================] - 0s 4ms/step - loss: 0.0060 - accuracy: 1.0000\n",
      "Epoch 29/50\n",
      "1/1 [==============================] - 0s 4ms/step - loss: 0.0056 - accuracy: 1.0000\n",
      "Epoch 30/50\n",
      "1/1 [==============================] - 0s 5ms/step - loss: 0.0053 - accuracy: 1.0000\n",
      "Epoch 31/50\n",
      "1/1 [==============================] - 0s 5ms/step - loss: 0.0050 - accuracy: 1.0000\n",
      "Epoch 32/50\n",
      "1/1 [==============================] - 0s 5ms/step - loss: 0.0048 - accuracy: 1.0000\n",
      "Epoch 33/50\n",
      "1/1 [==============================] - 0s 3ms/step - loss: 0.0046 - accuracy: 1.0000\n",
      "Epoch 34/50\n",
      "1/1 [==============================] - 0s 0s/step - loss: 0.0044 - accuracy: 1.0000\n",
      "Epoch 35/50\n",
      "1/1 [==============================] - 0s 5ms/step - loss: 0.0042 - accuracy: 1.0000\n",
      "Epoch 36/50\n",
      "1/1 [==============================] - 0s 4ms/step - loss: 0.0041 - accuracy: 1.0000\n",
      "Epoch 37/50\n",
      "1/1 [==============================] - 0s 5ms/step - loss: 0.0039 - accuracy: 1.0000\n",
      "Epoch 38/50\n",
      "1/1 [==============================] - 0s 4ms/step - loss: 0.0038 - accuracy: 1.0000\n",
      "Epoch 39/50\n",
      "1/1 [==============================] - 0s 5ms/step - loss: 0.0037 - accuracy: 1.0000\n",
      "Epoch 40/50\n",
      "1/1 [==============================] - 0s 4ms/step - loss: 0.0036 - accuracy: 1.0000\n",
      "Epoch 41/50\n",
      "1/1 [==============================] - 0s 4ms/step - loss: 0.0035 - accuracy: 1.0000\n",
      "Epoch 42/50\n",
      "1/1 [==============================] - 0s 4ms/step - loss: 0.0034 - accuracy: 1.0000\n",
      "Epoch 43/50\n",
      "1/1 [==============================] - 0s 4ms/step - loss: 0.0033 - accuracy: 1.0000\n",
      "Epoch 44/50\n",
      "1/1 [==============================] - 0s 4ms/step - loss: 0.0033 - accuracy: 1.0000\n",
      "Epoch 45/50\n",
      "1/1 [==============================] - 0s 5ms/step - loss: 0.0032 - accuracy: 1.0000\n",
      "Epoch 46/50\n",
      "1/1 [==============================] - 0s 4ms/step - loss: 0.0031 - accuracy: 1.0000\n",
      "Epoch 47/50\n",
      "1/1 [==============================] - 0s 4ms/step - loss: 0.0031 - accuracy: 1.0000\n",
      "Epoch 48/50\n",
      "1/1 [==============================] - 0s 3ms/step - loss: 0.0030 - accuracy: 1.0000\n",
      "Epoch 49/50\n",
      "1/1 [==============================] - 0s 0s/step - loss: 0.0030 - accuracy: 1.0000\n",
      "Epoch 50/50\n",
      "1/1 [==============================] - 0s 19ms/step - loss: 0.0029 - accuracy: 1.0000\n"
     ]
    }
   ],
   "source": [
    "model = tf.keras.models.load_model(\"Heart_Classifier_NN_v1_orig.keras\")\n",
    "history = model.fit(user_data_X, user_data_y, epochs=50, shuffle=True)"
   ]
  },
  {
   "cell_type": "code",
   "execution_count": 249,
   "id": "f4a5ec53-3369-47e1-b111-d365e04333a0",
   "metadata": {},
   "outputs": [
    {
     "name": "stdout",
     "output_type": "stream",
     "text": [
      "4/4 [==============================] - 0s 2ms/step - loss: 2.1877 - accuracy: 0.5248\n"
     ]
    },
    {
     "data": {
      "text/plain": [
       "[2.187746524810791, 0.5247524976730347]"
      ]
     },
     "execution_count": 249,
     "metadata": {},
     "output_type": "execute_result"
    }
   ],
   "source": [
    "model.evaluate(X_test, y_test)"
   ]
  },
  {
   "cell_type": "markdown",
   "id": "e003cac5-6b21-4d7c-ae32-9ebd2aacb718",
   "metadata": {},
   "source": [
    "# Finetuning the model with new data Merged with original Data"
   ]
  },
  {
   "cell_type": "code",
   "execution_count": 250,
   "id": "4e23492a-d26c-433a-ae86-e8afb0e45cd0",
   "metadata": {},
   "outputs": [],
   "source": [
    "X_train = np.concatenate((user_data_X, X_train), axis = 0)"
   ]
  },
  {
   "cell_type": "code",
   "execution_count": 251,
   "id": "3e42ba47-9c7a-4224-8a56-0467d982f20f",
   "metadata": {},
   "outputs": [],
   "source": [
    "y_train = np.concatenate((user_data_y, y_train), axis = 0)"
   ]
  },
  {
   "cell_type": "code",
   "execution_count": 252,
   "id": "9ca8165f-cb2e-4b2b-ab0f-6422e2cda832",
   "metadata": {},
   "outputs": [
    {
     "name": "stdout",
     "output_type": "stream",
     "text": [
      "Epoch 1/50\n",
      "29/29 [==============================] - 0s 2ms/step - loss: 0.4730 - accuracy: 0.8093\n",
      "Epoch 2/50\n",
      "29/29 [==============================] - 0s 1ms/step - loss: 0.4681 - accuracy: 0.8169\n",
      "Epoch 3/50\n",
      "29/29 [==============================] - 0s 1ms/step - loss: 0.4708 - accuracy: 0.8126\n",
      "Epoch 4/50\n",
      "29/29 [==============================] - 0s 1ms/step - loss: 0.4598 - accuracy: 0.8223\n",
      "Epoch 5/50\n",
      "29/29 [==============================] - 0s 1ms/step - loss: 0.4571 - accuracy: 0.8223\n",
      "Epoch 6/50\n",
      "29/29 [==============================] - 0s 1ms/step - loss: 0.4551 - accuracy: 0.8267\n",
      "Epoch 7/50\n",
      "29/29 [==============================] - 0s 2ms/step - loss: 0.4537 - accuracy: 0.8212\n",
      "Epoch 8/50\n",
      "29/29 [==============================] - 0s 1ms/step - loss: 0.4514 - accuracy: 0.8191\n",
      "Epoch 9/50\n",
      "29/29 [==============================] - 0s 1ms/step - loss: 0.4476 - accuracy: 0.8245\n",
      "Epoch 10/50\n",
      "29/29 [==============================] - 0s 1ms/step - loss: 0.4480 - accuracy: 0.8277\n",
      "Epoch 11/50\n",
      "29/29 [==============================] - 0s 1ms/step - loss: 0.4523 - accuracy: 0.8158\n",
      "Epoch 12/50\n",
      "29/29 [==============================] - 0s 1ms/step - loss: 0.4515 - accuracy: 0.8147\n",
      "Epoch 13/50\n",
      "29/29 [==============================] - 0s 2ms/step - loss: 0.4422 - accuracy: 0.8191\n",
      "Epoch 14/50\n",
      "29/29 [==============================] - 0s 1ms/step - loss: 0.4417 - accuracy: 0.8191\n",
      "Epoch 15/50\n",
      "29/29 [==============================] - 0s 1ms/step - loss: 0.4405 - accuracy: 0.8180\n",
      "Epoch 16/50\n",
      "29/29 [==============================] - 0s 2ms/step - loss: 0.4345 - accuracy: 0.8321\n",
      "Epoch 17/50\n",
      "29/29 [==============================] - 0s 2ms/step - loss: 0.4450 - accuracy: 0.8245\n",
      "Epoch 18/50\n",
      "29/29 [==============================] - 0s 1ms/step - loss: 0.4339 - accuracy: 0.8191\n",
      "Epoch 19/50\n",
      "29/29 [==============================] - 0s 1ms/step - loss: 0.4293 - accuracy: 0.8342\n",
      "Epoch 20/50\n",
      "29/29 [==============================] - 0s 1ms/step - loss: 0.4280 - accuracy: 0.8267\n",
      "Epoch 21/50\n",
      "29/29 [==============================] - 0s 1ms/step - loss: 0.4307 - accuracy: 0.8223\n",
      "Epoch 22/50\n",
      "29/29 [==============================] - 0s 1ms/step - loss: 0.4301 - accuracy: 0.8147\n",
      "Epoch 23/50\n",
      "29/29 [==============================] - 0s 2ms/step - loss: 0.4232 - accuracy: 0.8310\n",
      "Epoch 24/50\n",
      "29/29 [==============================] - 0s 2ms/step - loss: 0.4246 - accuracy: 0.8191\n",
      "Epoch 25/50\n",
      "29/29 [==============================] - 0s 1ms/step - loss: 0.4224 - accuracy: 0.8299\n",
      "Epoch 26/50\n",
      "29/29 [==============================] - 0s 1ms/step - loss: 0.4193 - accuracy: 0.8267\n",
      "Epoch 27/50\n",
      "29/29 [==============================] - 0s 1ms/step - loss: 0.4182 - accuracy: 0.8310\n",
      "Epoch 28/50\n",
      "29/29 [==============================] - 0s 1ms/step - loss: 0.4177 - accuracy: 0.8288\n",
      "Epoch 29/50\n",
      "29/29 [==============================] - 0s 2ms/step - loss: 0.4242 - accuracy: 0.8288\n",
      "Epoch 30/50\n",
      "29/29 [==============================] - 0s 1ms/step - loss: 0.4165 - accuracy: 0.8256\n",
      "Epoch 31/50\n",
      "29/29 [==============================] - 0s 3ms/step - loss: 0.4156 - accuracy: 0.8267\n",
      "Epoch 32/50\n",
      "29/29 [==============================] - 0s 1ms/step - loss: 0.4139 - accuracy: 0.8277\n",
      "Epoch 33/50\n",
      "29/29 [==============================] - 0s 1ms/step - loss: 0.4182 - accuracy: 0.8364\n",
      "Epoch 34/50\n",
      "29/29 [==============================] - 0s 2ms/step - loss: 0.4122 - accuracy: 0.8245\n",
      "Epoch 35/50\n",
      "29/29 [==============================] - 0s 2ms/step - loss: 0.4151 - accuracy: 0.8245\n",
      "Epoch 36/50\n",
      "29/29 [==============================] - 0s 2ms/step - loss: 0.4103 - accuracy: 0.8288\n",
      "Epoch 37/50\n",
      "29/29 [==============================] - 0s 2ms/step - loss: 0.4141 - accuracy: 0.8321\n",
      "Epoch 38/50\n",
      "29/29 [==============================] - 0s 2ms/step - loss: 0.4126 - accuracy: 0.8299\n",
      "Epoch 39/50\n",
      "29/29 [==============================] - 0s 2ms/step - loss: 0.4214 - accuracy: 0.8299\n",
      "Epoch 40/50\n",
      "29/29 [==============================] - 0s 2ms/step - loss: 0.4045 - accuracy: 0.8267\n",
      "Epoch 41/50\n",
      "29/29 [==============================] - 0s 1ms/step - loss: 0.4050 - accuracy: 0.8321\n",
      "Epoch 42/50\n",
      "29/29 [==============================] - 0s 2ms/step - loss: 0.4092 - accuracy: 0.8256\n",
      "Epoch 43/50\n",
      "29/29 [==============================] - 0s 2ms/step - loss: 0.4207 - accuracy: 0.8234\n",
      "Epoch 44/50\n",
      "29/29 [==============================] - 0s 2ms/step - loss: 0.4112 - accuracy: 0.8353\n",
      "Epoch 45/50\n",
      "29/29 [==============================] - 0s 1ms/step - loss: 0.4054 - accuracy: 0.8234\n",
      "Epoch 46/50\n",
      "29/29 [==============================] - 0s 2ms/step - loss: 0.4033 - accuracy: 0.8332\n",
      "Epoch 47/50\n",
      "29/29 [==============================] - 0s 1ms/step - loss: 0.3998 - accuracy: 0.8418\n",
      "Epoch 48/50\n",
      "29/29 [==============================] - 0s 1ms/step - loss: 0.4026 - accuracy: 0.8277\n",
      "Epoch 49/50\n",
      "29/29 [==============================] - 0s 2ms/step - loss: 0.4032 - accuracy: 0.8342\n",
      "Epoch 50/50\n",
      "29/29 [==============================] - 0s 1ms/step - loss: 0.3984 - accuracy: 0.8288\n"
     ]
    }
   ],
   "source": [
    "model = tf.keras.models.load_model(\"Heart_Classifier_NN_v1_orig.keras\")\n",
    "history = model.fit(X_train, y_train, epochs=50, shuffle=True)"
   ]
  },
  {
   "cell_type": "code",
   "execution_count": 253,
   "id": "b38350a7-2d6c-4041-9bd2-861661b2116a",
   "metadata": {},
   "outputs": [
    {
     "name": "stdout",
     "output_type": "stream",
     "text": [
      "4/4 [==============================] - 0s 6ms/step - loss: 0.3326 - accuracy: 0.9010\n"
     ]
    },
    {
     "data": {
      "text/plain": [
       "[0.3325673043727875, 0.9009901285171509]"
      ]
     },
     "execution_count": 253,
     "metadata": {},
     "output_type": "execute_result"
    }
   ],
   "source": [
    "model.evaluate(X_test, y_test)"
   ]
  },
  {
   "cell_type": "markdown",
   "id": "b411edca-bd13-4041-9bfe-77116601cbcb",
   "metadata": {},
   "source": [
    "# Point of Doubts\n",
    "* Retraining with Entire data with new data can cause overfitting, resource consumption\n",
    "* Retraining with Only new data significantly reduces Accuracy"
   ]
  }
 ],
 "metadata": {
  "kernelspec": {
   "display_name": "Python 3 (ipykernel)",
   "language": "python",
   "name": "python3"
  },
  "language_info": {
   "codemirror_mode": {
    "name": "ipython",
    "version": 3
   },
   "file_extension": ".py",
   "mimetype": "text/x-python",
   "name": "python",
   "nbconvert_exporter": "python",
   "pygments_lexer": "ipython3",
   "version": "3.11.4"
  }
 },
 "nbformat": 4,
 "nbformat_minor": 5
}
