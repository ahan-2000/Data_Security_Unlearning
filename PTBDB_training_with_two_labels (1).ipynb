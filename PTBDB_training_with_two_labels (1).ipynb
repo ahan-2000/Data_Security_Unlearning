{
 "cells": [
  {
   "cell_type": "code",
   "execution_count": 1,
   "id": "11d83cdb-8875-4cc4-85b5-16fd30bb1fc6",
   "metadata": {},
   "outputs": [
    {
     "name": "stdout",
     "output_type": "stream",
     "text": [
      "WARNING:tensorflow:From C:\\Users\\Subhajit Paul\\Desktop\\unlearn\\Machine_Unlearning_LLM\\unlearn\\Lib\\site-packages\\keras\\src\\losses.py:2976: The name tf.losses.sparse_softmax_cross_entropy is deprecated. Please use tf.compat.v1.losses.sparse_softmax_cross_entropy instead.\n",
      "\n"
     ]
    }
   ],
   "source": [
    "from sklearn.model_selection import train_test_split\n",
    "from sklearn.feature_selection import SelectKBest\n",
    "from sklearn.preprocessing import StandardScaler\n",
    "from sklearn.feature_selection import f_classif\n",
    "import tensorflow as tf\n",
    "import tensorflow\n",
    "from tensorflow.keras.layers import Dense, InputLayer\n",
    "from tensorflow.keras.optimizers import Adam\n",
    "from tensorflow.keras.losses import BinaryCrossentropy\n",
    "from tensorflow.keras import Sequential\n",
    "import matplotlib.pyplot as plt\n",
    "from tensorflow.keras.utils import to_categorical\n",
    "import seaborn as sns\n",
    "import pandas as pd\n",
    "import numpy as np\n",
    "np.random.seed(5)\n",
    "tf.random.set_seed(5)"
   ]
  },
  {
   "cell_type": "code",
   "execution_count": 4,
   "id": "565044af-8d93-4f63-a581-014080e183b4",
   "metadata": {},
   "outputs": [],
   "source": [
    "normal = pd.read_csv(\"dataset/ptbdb_normal.csv\", header=None).to_numpy()\n",
    "abnormal = pd.read_csv(\"dataset/ptbdb_abnormal.csv\", header=None).to_numpy()"
   ]
  },
  {
   "cell_type": "code",
   "execution_count": 24,
   "id": "64608cc6-b3e0-4fbf-8381-49673c7ab8aa",
   "metadata": {},
   "outputs": [],
   "source": [
    "X = np.row_stack((normal, abnormal))\n",
    "y1 = np.zeros(len(normal))\n",
    "y2 = np.ones(len(abnormal))\n",
    "a = np.concatenate((y1, y2)).astype(np.int8)"
   ]
  },
  {
   "cell_type": "code",
   "execution_count": 27,
   "id": "fbae95d7-8037-47b7-a1e1-babb1ea21959",
   "metadata": {},
   "outputs": [],
   "source": [
    "y = np.zeros((a.size, a.max() + 1))\n",
    "y[np.arange(a.size), a] = 1."
   ]
  },
  {
   "cell_type": "code",
   "execution_count": 30,
   "id": "5ea8ca1b-f18c-4d5a-8aff-14cbb4055367",
   "metadata": {},
   "outputs": [],
   "source": [
    "X_train, X_test, y_train, y_test = train_test_split(X, y, test_size=0.15, random_state=5)"
   ]
  },
  {
   "cell_type": "code",
   "execution_count": 34,
   "id": "104e2b2c-97f8-4223-8016-b83f18490063",
   "metadata": {},
   "outputs": [
    {
     "name": "stdout",
     "output_type": "stream",
     "text": [
      "Epoch 1/5\n",
      "387/387 [==============================] - 1s 1ms/step - loss: 0.1416 - accuracy: 0.9574\n",
      "Epoch 2/5\n",
      "387/387 [==============================] - 1s 1ms/step - loss: 0.0044 - accuracy: 1.0000\n",
      "Epoch 3/5\n",
      "387/387 [==============================] - 1s 1ms/step - loss: 9.1535e-04 - accuracy: 1.0000\n",
      "Epoch 4/5\n",
      "387/387 [==============================] - 1s 1ms/step - loss: 3.6916e-04 - accuracy: 1.0000\n",
      "Epoch 5/5\n",
      "387/387 [==============================] - 0s 1ms/step - loss: 1.7806e-04 - accuracy: 1.0000\n"
     ]
    }
   ],
   "source": [
    "model = Sequential()\n",
    "\n",
    "model.add(Dense(256, input_dim=188, activation='relu'))\n",
    "model.add(Dense(2, activation='softmax'))\n",
    "\n",
    "model.compile(optimizer=tf.optimizers.Adam(), loss='binary_crossentropy', metrics=['accuracy'])\n",
    "history = model.fit(X_train, y_train, epochs=5, shuffle=True)"
   ]
  },
  {
   "cell_type": "code",
   "execution_count": 35,
   "id": "6ef70de1-d1e2-4883-874b-c7f88b594749",
   "metadata": {},
   "outputs": [
    {
     "name": "stdout",
     "output_type": "stream",
     "text": [
      "69/69 [==============================] - 0s 1ms/step - loss: 1.1861e-04 - accuracy: 1.0000\n"
     ]
    },
    {
     "data": {
      "text/plain": [
       "[0.00011860873928526416, 1.0]"
      ]
     },
     "execution_count": 35,
     "metadata": {},
     "output_type": "execute_result"
    }
   ],
   "source": [
    "model.evaluate(X_test, y_test)"
   ]
  },
  {
   "cell_type": "code",
   "execution_count": 37,
   "id": "63fe62d9-fa90-4195-932c-22d1dd6cc868",
   "metadata": {},
   "outputs": [],
   "source": [
    "model.save(\"models/PTBDB_NN_V2.keras\")"
   ]
  },
  {
   "cell_type": "code",
   "execution_count": null,
   "id": "6785b03e-ee54-41f0-9844-b64c183686c1",
   "metadata": {},
   "outputs": [],
   "source": []
  }
 ],
 "metadata": {
  "kernelspec": {
   "display_name": "Python 3 (ipykernel)",
   "language": "python",
   "name": "python3"
  },
  "language_info": {
   "codemirror_mode": {
    "name": "ipython",
    "version": 3
   },
   "file_extension": ".py",
   "mimetype": "text/x-python",
   "name": "python",
   "nbconvert_exporter": "python",
   "pygments_lexer": "ipython3",
   "version": "3.11.4"
  }
 },
 "nbformat": 4,
 "nbformat_minor": 5
}
