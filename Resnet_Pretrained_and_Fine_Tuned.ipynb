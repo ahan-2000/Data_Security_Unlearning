{
  "nbformat": 4,
  "nbformat_minor": 0,
  "metadata": {
    "colab": {
      "provenance": [],
      "machine_shape": "hm",
      "gpuType": "V100"
    },
    "kernelspec": {
      "name": "python3",
      "display_name": "Python 3"
    },
    "language_info": {
      "name": "python"
    },
    "accelerator": "GPU"
  },
  "cells": [
    {
      "cell_type": "code",
      "execution_count": 4,
      "metadata": {
        "id": "4wyMfEAy9lGG"
      },
      "outputs": [],
      "source": [
        "import shutil\n",
        "import numpy as np\n",
        "import pandas as pd\n",
        "import matplotlib.pyplot as plt\n",
        "import torch\n",
        "from torch import nn, optim\n",
        "import torch.nn.functional as F\n",
        "import seaborn as sns\n",
        "sns.set()"
      ]
    },
    {
      "cell_type": "code",
      "source": [
        "from google.colab import drive\n",
        "drive.mount('/content/gdrive')"
      ],
      "metadata": {
        "id": "s9ANQdgD-9mi",
        "colab": {
          "base_uri": "https://localhost:8080/"
        },
        "outputId": "3fbb175c-7954-4562-de4a-7b413c7bf6c9"
      },
      "execution_count": 5,
      "outputs": [
        {
          "output_type": "stream",
          "name": "stdout",
          "text": [
            "Drive already mounted at /content/gdrive; to attempt to forcibly remount, call drive.mount(\"/content/gdrive\", force_remount=True).\n"
          ]
        }
      ]
    },
    {
      "cell_type": "code",
      "source": [
        "device = torch.device('cuda' if torch.cuda.is_available() else 'cpu')\n",
        "print(\"torch version:\", torch.__version__)\n",
        "print(\"device:\", device)"
      ],
      "metadata": {
        "id": "uMAzqZP9rC3u",
        "colab": {
          "base_uri": "https://localhost:8080/"
        },
        "outputId": "32cd18fb-ebb2-4a16-d61b-ff78e93940fa"
      },
      "execution_count": 6,
      "outputs": [
        {
          "output_type": "stream",
          "name": "stdout",
          "text": [
            "torch version: 2.1.0+cu121\n",
            "device: cuda\n"
          ]
        }
      ]
    },
    {
      "cell_type": "code",
      "source": [
        "destination_directory = '/content/gdrive/MyDrive/Physionet_NPY_DATA/'"
      ],
      "metadata": {
        "id": "vq1X3VjZ-_BV"
      },
      "execution_count": 7,
      "outputs": []
    },
    {
      "cell_type": "code",
      "source": [
        "X_train_file_path = destination_directory + 'X_train.npy'\n",
        "X_test_file_path = destination_directory + 'X_test.npy'\n",
        "y_train_file_path = destination_directory + 'y_train.npy'\n",
        "y_test_file_path = destination_directory + 'y_test.npy'"
      ],
      "metadata": {
        "id": "tkynlgAr_Es-"
      },
      "execution_count": 8,
      "outputs": []
    },
    {
      "cell_type": "code",
      "source": [
        "X_train_file_path"
      ],
      "metadata": {
        "id": "dL1MD3TSJB1x",
        "colab": {
          "base_uri": "https://localhost:8080/",
          "height": 36
        },
        "outputId": "4510c2cc-3c81-4812-9de6-ec96ab8eab4a"
      },
      "execution_count": 9,
      "outputs": [
        {
          "output_type": "execute_result",
          "data": {
            "text/plain": [
              "'/content/gdrive/MyDrive/Physionet_NPY_DATA/X_train.npy'"
            ],
            "application/vnd.google.colaboratory.intrinsic+json": {
              "type": "string"
            }
          },
          "metadata": {},
          "execution_count": 9
        }
      ]
    },
    {
      "cell_type": "code",
      "source": [
        "X_train = np.load(X_train_file_path, allow_pickle=True)\n",
        "X_test = np.load(X_test_file_path, allow_pickle=True)\n",
        "y_train = np.load(y_train_file_path, allow_pickle=True)\n",
        "y_test = np.load(y_test_file_path, allow_pickle=True)"
      ],
      "metadata": {
        "id": "sKSizCny_Fu9"
      },
      "execution_count": 10,
      "outputs": []
    },
    {
      "cell_type": "code",
      "source": [
        "y_train = y_train.reshape(len(y_train), 1)\n",
        "y_test = y_test.reshape(len(y_test), 1)"
      ],
      "metadata": {
        "id": "eX11je7sNLOZ"
      },
      "execution_count": 11,
      "outputs": []
    },
    {
      "cell_type": "code",
      "source": [
        "X_train = X_train[:10000,:,:]"
      ],
      "metadata": {
        "id": "cbPfh8RSYWHM"
      },
      "execution_count": 12,
      "outputs": []
    },
    {
      "cell_type": "code",
      "source": [
        "X_train.shape"
      ],
      "metadata": {
        "colab": {
          "base_uri": "https://localhost:8080/"
        },
        "id": "ZaUcYYjmgLJQ",
        "outputId": "31b18d2e-08d7-4fe3-98fd-0f0d84dcc93f"
      },
      "execution_count": 13,
      "outputs": [
        {
          "output_type": "execute_result",
          "data": {
            "text/plain": [
              "(10000, 5000, 12)"
            ]
          },
          "metadata": {},
          "execution_count": 13
        }
      ]
    },
    {
      "cell_type": "code",
      "source": [
        "y_train = y_train[:10000]"
      ],
      "metadata": {
        "id": "4XCDTPG9gNX9"
      },
      "execution_count": 14,
      "outputs": []
    },
    {
      "cell_type": "code",
      "source": [
        "y_list = y_train.tolist()\n",
        "\n",
        "temp = None\n",
        "faulty_set = list()\n",
        "count = 0\n",
        "for items in y_train:\n",
        "\n",
        "    if len(items[0]) == 0:\n",
        "       count += 1\n",
        "       temp = items\n",
        "       faulty_set.append(temp)\n",
        "       continue\n",
        "\n",
        "X_train = X_train[np.where(y_train != temp)[0]]\n",
        "y_train = y_train[np.where(y_train != temp)[0]]\n",
        "X_test = X_test[np.where(y_test != temp)[0]]\n",
        "y_test = y_test[np.where(y_test != temp)[0]]"
      ],
      "metadata": {
        "id": "C65ofspRK-SD"
      },
      "execution_count": 15,
      "outputs": []
    },
    {
      "cell_type": "code",
      "source": [],
      "metadata": {
        "id": "QBDi8IPyC6H2"
      },
      "execution_count": 15,
      "outputs": []
    },
    {
      "cell_type": "code",
      "source": [
        "X_train.shape, X_test.shape, y_train.shape, y_test.shape"
      ],
      "metadata": {
        "id": "SrnKFSsDGWic",
        "colab": {
          "base_uri": "https://localhost:8080/"
        },
        "outputId": "56ba28a3-350f-460e-863c-4e01ea8b640b"
      },
      "execution_count": 16,
      "outputs": [
        {
          "output_type": "execute_result",
          "data": {
            "text/plain": [
              "((9854, 5000, 12), (1901, 5000, 12), (9854, 1), (1901, 1))"
            ]
          },
          "metadata": {},
          "execution_count": 16
        }
      ]
    },
    {
      "cell_type": "code",
      "source": [],
      "metadata": {
        "id": "xY2xVWCOP0zS"
      },
      "execution_count": 16,
      "outputs": []
    },
    {
      "cell_type": "code",
      "source": [
        "# shape of one ECG\n",
        "np.array(X_train[0]).shape"
      ],
      "metadata": {
        "colab": {
          "base_uri": "https://localhost:8080/"
        },
        "id": "S35KHHrB5c9o",
        "outputId": "7094dab8-0fcc-495f-c59d-bb6934f27971"
      },
      "execution_count": 14,
      "outputs": [
        {
          "output_type": "execute_result",
          "data": {
            "text/plain": [
              "(5000, 12)"
            ]
          },
          "metadata": {},
          "execution_count": 14
        }
      ]
    },
    {
      "cell_type": "code",
      "source": [
        "\n",
        "unique_values = np.unique(np.concatenate(y_train.flatten()))\n",
        "print(f'All Labels: {unique_values}')"
      ],
      "metadata": {
        "id": "F-nyqRyO6zO7",
        "colab": {
          "base_uri": "https://localhost:8080/"
        },
        "outputId": "35c3b445-7298-4d22-89ed-024761b31a69"
      },
      "execution_count": 15,
      "outputs": [
        {
          "output_type": "stream",
          "name": "stdout",
          "text": [
            "All Labels: ['CD' 'HYP' 'MI' 'NORM' 'STTC']\n"
          ]
        }
      ]
    },
    {
      "cell_type": "code",
      "source": [
        "y_train.shape"
      ],
      "metadata": {
        "colab": {
          "base_uri": "https://localhost:8080/"
        },
        "id": "YTGMB6nvMRSO",
        "outputId": "f81338de-7cbc-48a9-a6af-89fcd890a050"
      },
      "execution_count": 16,
      "outputs": [
        {
          "output_type": "execute_result",
          "data": {
            "text/plain": [
              "(9854, 1)"
            ]
          },
          "metadata": {},
          "execution_count": 16
        }
      ]
    },
    {
      "cell_type": "code",
      "source": [
        "x_out = list()\n",
        "y_out = list()\n",
        "to_pop = list()\n",
        "sample_size = 5\n",
        "count = 0\n",
        "samples = 0\n",
        "for i in y_train:\n",
        "    if i[0] == ['CD'] and samples < sample_size:\n",
        "        x_out.append(X_train[count])\n",
        "        y_out.append(y_train[count])\n",
        "        to_pop.append(count)\n",
        "        X_train = np.delete(X_train, count, axis=0)\n",
        "        y_train = np.delete(y_train, count, axis=0)\n",
        "        samples += 1\n",
        "\n",
        "    count += 1"
      ],
      "metadata": {
        "id": "2q3e0gcH9psC"
      },
      "execution_count": 17,
      "outputs": []
    },
    {
      "cell_type": "code",
      "source": [
        "np.array(x_out).shape, np.array(y_out).shape"
      ],
      "metadata": {
        "id": "DNdiI4c_BZgf",
        "colab": {
          "base_uri": "https://localhost:8080/"
        },
        "outputId": "b6135ec7-3a74-4f53-8ea3-504221fb416a"
      },
      "execution_count": 18,
      "outputs": [
        {
          "output_type": "execute_result",
          "data": {
            "text/plain": [
              "((5, 5000, 12), (5, 1))"
            ]
          },
          "metadata": {},
          "execution_count": 18
        }
      ]
    },
    {
      "cell_type": "code",
      "source": [
        "x_out"
      ],
      "metadata": {
        "colab": {
          "base_uri": "https://localhost:8080/"
        },
        "id": "Rmhdz9gTQeSe",
        "outputId": "0d9d4294-7da2-491a-bc6d-cb25e1387995"
      },
      "execution_count": 19,
      "outputs": [
        {
          "output_type": "execute_result",
          "data": {
            "text/plain": [
              "[array([[-0.009,  0.144,  0.153, ..., -0.051, -0.099, -0.066],\n",
              "        [-0.012,  0.192,  0.204, ..., -0.068, -0.132, -0.088],\n",
              "        [-0.015,  0.24 ,  0.255, ..., -0.085, -0.165, -0.11 ],\n",
              "        ...,\n",
              "        [-0.005,  0.01 ,  0.015, ..., -0.03 ,  0.03 ,  0.02 ],\n",
              "        [-0.004,  0.008,  0.012, ..., -0.024,  0.024,  0.016],\n",
              "        [-0.003,  0.006,  0.009, ..., -0.018,  0.018,  0.012]]),\n",
              " array([[-0.027, -0.021,  0.006, ..., -0.039, -0.015, -0.015],\n",
              "        [-0.036, -0.028,  0.008, ..., -0.052, -0.02 , -0.02 ],\n",
              "        [-0.045, -0.035,  0.01 , ..., -0.065, -0.025, -0.025],\n",
              "        ...,\n",
              "        [-0.045, -0.1  , -0.055, ..., -0.075, -0.08 , -0.065],\n",
              "        [-0.036, -0.08 , -0.044, ..., -0.06 , -0.064, -0.052],\n",
              "        [-0.027, -0.06 , -0.033, ..., -0.045, -0.048, -0.039]]),\n",
              " array([[-0.039, -0.048, -0.009, ..., -0.033,  0.021, -0.012],\n",
              "        [-0.052, -0.064, -0.012, ..., -0.044,  0.028, -0.016],\n",
              "        [-0.065, -0.08 , -0.015, ..., -0.055,  0.035, -0.02 ],\n",
              "        ...,\n",
              "        [-0.025,  0.095,  0.12 , ..., -0.22 , -0.265, -0.245],\n",
              "        [-0.02 ,  0.076,  0.096, ..., -0.176, -0.212, -0.196],\n",
              "        [-0.015,  0.057,  0.072, ..., -0.132, -0.159, -0.147]]),\n",
              " array([[-0.054, -0.015,  0.039, ..., -0.141, -0.081, -0.051],\n",
              "        [-0.072, -0.02 ,  0.052, ..., -0.188, -0.108, -0.068],\n",
              "        [-0.09 , -0.025,  0.065, ..., -0.235, -0.135, -0.085],\n",
              "        ...,\n",
              "        [ 0.03 , -0.17 , -0.2  , ..., -0.085, -0.055, -0.03 ],\n",
              "        [ 0.024, -0.136, -0.16 , ..., -0.068, -0.044, -0.024],\n",
              "        [ 0.018, -0.102, -0.12 , ..., -0.051, -0.033, -0.018]]),\n",
              " array([[-0.099 , -0.087 ,  0.012 , ..., -0.276 , -0.195 , -0.198 ],\n",
              "        [-0.1318, -0.116 ,  0.0158, ..., -0.3678, -0.26  , -0.264 ],\n",
              "        [-0.165 , -0.145 ,  0.02  , ..., -0.4602, -0.3252, -0.3302],\n",
              "        ...,\n",
              "        [-0.1   , -0.07  ,  0.03  , ...,  0.155 , -0.07  , -0.125 ],\n",
              "        [-0.08  , -0.056 ,  0.024 , ...,  0.124 , -0.056 , -0.1   ],\n",
              "        [-0.06  , -0.042 ,  0.018 , ...,  0.093 , -0.042 , -0.075 ]])]"
            ]
          },
          "metadata": {},
          "execution_count": 19
        }
      ]
    },
    {
      "cell_type": "code",
      "source": [
        "y_out"
      ],
      "metadata": {
        "colab": {
          "base_uri": "https://localhost:8080/"
        },
        "id": "u4DKQUVlQfu9",
        "outputId": "0dc436e4-811b-46ae-8f99-a3db296cef90"
      },
      "execution_count": 20,
      "outputs": [
        {
          "output_type": "execute_result",
          "data": {
            "text/plain": [
              "[array([list(['CD'])], dtype=object),\n",
              " array([list(['NORM'])], dtype=object),\n",
              " array([list(['NORM'])], dtype=object),\n",
              " array([list(['CD'])], dtype=object),\n",
              " array([list(['HYP', 'MI'])], dtype=object)]"
            ]
          },
          "metadata": {},
          "execution_count": 20
        }
      ]
    },
    {
      "cell_type": "code",
      "source": [
        "import gc\n",
        "gc.collect()"
      ],
      "metadata": {
        "colab": {
          "base_uri": "https://localhost:8080/"
        },
        "id": "_rzmwwQBOzGM",
        "outputId": "0a4fd2e2-cb52-46ea-e9ac-7ca8f90eac7f"
      },
      "execution_count": 21,
      "outputs": [
        {
          "output_type": "execute_result",
          "data": {
            "text/plain": [
              "0"
            ]
          },
          "metadata": {},
          "execution_count": 21
        }
      ]
    },
    {
      "cell_type": "code",
      "source": [
        "y_out"
      ],
      "metadata": {
        "id": "DjemqWg8FTFH",
        "colab": {
          "base_uri": "https://localhost:8080/"
        },
        "outputId": "387d6fb5-6a09-4898-c75d-91e4f3eeb05b"
      },
      "execution_count": 22,
      "outputs": [
        {
          "output_type": "execute_result",
          "data": {
            "text/plain": [
              "[array([list(['CD'])], dtype=object),\n",
              " array([list(['NORM'])], dtype=object),\n",
              " array([list(['NORM'])], dtype=object),\n",
              " array([list(['CD'])], dtype=object),\n",
              " array([list(['HYP', 'MI'])], dtype=object)]"
            ]
          },
          "metadata": {},
          "execution_count": 22
        }
      ]
    },
    {
      "cell_type": "code",
      "source": [
        "count"
      ],
      "metadata": {
        "colab": {
          "base_uri": "https://localhost:8080/"
        },
        "id": "vqM3hVArRPtg",
        "outputId": "b530a3ed-56f9-4390-886c-53fdd5666ee4"
      },
      "execution_count": 23,
      "outputs": [
        {
          "output_type": "execute_result",
          "data": {
            "text/plain": [
              "9854"
            ]
          },
          "metadata": {},
          "execution_count": 23
        }
      ]
    },
    {
      "cell_type": "code",
      "source": [
        "X_train.shape"
      ],
      "metadata": {
        "colab": {
          "base_uri": "https://localhost:8080/"
        },
        "id": "R9nZz8R9QL8I",
        "outputId": "2aa29d74-45b1-44a6-e7e6-ac7dae257cfc"
      },
      "execution_count": 24,
      "outputs": [
        {
          "output_type": "execute_result",
          "data": {
            "text/plain": [
              "(9849, 5000, 12)"
            ]
          },
          "metadata": {},
          "execution_count": 24
        }
      ]
    },
    {
      "cell_type": "code",
      "source": [
        "import pickle\n",
        "with open('x_patient.pkl', 'wb') as file:\n",
        "    pickle.dump(np.array(x_out), file)\n",
        "\n",
        "with open('y_patient.pkl', 'wb') as file:\n",
        "    pickle.dump(np.array(y_out), file)\n",
        "\n",
        "# with open('new_X_train.pkl', 'wb') as file:\n",
        "#     pickle.dump(np.array(X_train), file)\n",
        "\n",
        "# with open('new_y_train.pkl', 'wb') as file:\n",
        "#     pickle.dump(np.array(y_train), file)"
      ],
      "metadata": {
        "id": "4EJNKH6U3IN0"
      },
      "execution_count": 18,
      "outputs": []
    },
    {
      "cell_type": "code",
      "source": [
        "np.array(x_out).shape, np.array(y_out).shape"
      ],
      "metadata": {
        "colab": {
          "base_uri": "https://localhost:8080/"
        },
        "id": "f66b2AEHKPBU",
        "outputId": "f7eeb3b4-bd0a-4e8b-c2b2-7e72620c5f8d"
      },
      "execution_count": 26,
      "outputs": [
        {
          "output_type": "execute_result",
          "data": {
            "text/plain": [
              "((5, 5000, 12), (5, 1))"
            ]
          },
          "metadata": {},
          "execution_count": 26
        }
      ]
    },
    {
      "cell_type": "code",
      "source": [
        "# category mapping to a number\n",
        "num2class = np.array(['NORM', 'MI', 'STTC', 'CD', 'HYP'])\n",
        "\n",
        "def label2num(labels):\n",
        "    for index in range(len(labels)):\n",
        "        labels[index] = np.where(num2class == labels[index][0][0])[0]"
      ],
      "metadata": {
        "id": "slHlqdeidj1d"
      },
      "execution_count": 19,
      "outputs": []
    },
    {
      "cell_type": "code",
      "source": [
        "# y_train_copy = y_train.copy()\n",
        "# y_test_copy = y_test.copy()"
      ],
      "metadata": {
        "id": "DgxKnoHKeznm"
      },
      "execution_count": 28,
      "outputs": []
    },
    {
      "cell_type": "code",
      "source": [
        "# label2num(y_train_copy)\n",
        "# label2num(y_test_copy)"
      ],
      "metadata": {
        "id": "ktcTjdPShID0"
      },
      "execution_count": 29,
      "outputs": []
    },
    {
      "cell_type": "code",
      "source": [
        "label2num(y_train)\n",
        "label2num(y_test)"
      ],
      "metadata": {
        "id": "XCEUfuvteM9_"
      },
      "execution_count": 20,
      "outputs": []
    },
    {
      "cell_type": "code",
      "source": [
        "y_train = y_train.flatten().astype(np.int32)\n",
        "y_test = y_test.flatten().astype(np.int32)"
      ],
      "metadata": {
        "id": "1zqnP_l5hBw8"
      },
      "execution_count": 21,
      "outputs": []
    },
    {
      "cell_type": "code",
      "source": [
        "X_train.shape, X_test.shape, y_train.shape, y_test.shape"
      ],
      "metadata": {
        "id": "hl8UveHKnUzh",
        "colab": {
          "base_uri": "https://localhost:8080/"
        },
        "outputId": "f369fb0e-f4bf-4759-c08c-91475a6466f1"
      },
      "execution_count": 32,
      "outputs": [
        {
          "output_type": "execute_result",
          "data": {
            "text/plain": [
              "((9849, 5000, 12), (1901, 5000, 12), (9849,), (1901,))"
            ]
          },
          "metadata": {},
          "execution_count": 32
        }
      ]
    },
    {
      "cell_type": "code",
      "source": [
        "batch_size = 16"
      ],
      "metadata": {
        "id": "qGjSsnfemWY0"
      },
      "execution_count": 22,
      "outputs": []
    },
    {
      "cell_type": "code",
      "source": [
        "X_train.shape"
      ],
      "metadata": {
        "id": "WNGWnlMIo2AM",
        "colab": {
          "base_uri": "https://localhost:8080/"
        },
        "outputId": "a73ff120-375d-49df-ae48-989754573f41"
      },
      "execution_count": 34,
      "outputs": [
        {
          "output_type": "execute_result",
          "data": {
            "text/plain": [
              "(9849, 5000, 12)"
            ]
          },
          "metadata": {},
          "execution_count": 34
        }
      ]
    },
    {
      "cell_type": "code",
      "source": [
        "X_train = X_train.reshape(X_train.shape[0], 1, 5000, 12)\n",
        "X_test = X_test.reshape(X_test.shape[0], 1, 5000, 12)"
      ],
      "metadata": {
        "id": "PzzObVzRm6Is"
      },
      "execution_count": 23,
      "outputs": []
    },
    {
      "cell_type": "code",
      "source": [
        "X_train = torch.tensor(X_train, dtype=torch.float32)\n",
        "X_test = torch.tensor(X_test, dtype=torch.float32)\n",
        "y_train = torch.tensor(y_train, dtype=torch.float32)\n",
        "y_test = torch.tensor(y_test, dtype=torch.float32)\n"
      ],
      "metadata": {
        "id": "9Gpc2Fhrp8dm"
      },
      "execution_count": 24,
      "outputs": []
    },
    {
      "cell_type": "code",
      "source": [
        "train_dataset = torch.utils.data.TensorDataset(X_train, y_train)\n",
        "test_dataset = torch.utils.data.TensorDataset(X_test, y_test)\n",
        "\n",
        "train_loader = torch.utils.data.DataLoader(train_dataset, batch_size, shuffle=True)\n",
        "test_loader = torch.utils.data.DataLoader(test_dataset, batch_size=batch_size, shuffle=False)"
      ],
      "metadata": {
        "id": "wtpQ2uPep-Md"
      },
      "execution_count": 25,
      "outputs": []
    },
    {
      "cell_type": "code",
      "source": [
        "\n",
        "class BasicBlock(nn.Module):\n",
        "\n",
        "    expansion = 1\n",
        "\n",
        "    def __init__(self, in_channels, out_channels, stride=1):\n",
        "        super(BasicBlock, self).__init__()\n",
        "        self.features = nn.Sequential(\n",
        "            nn.Conv2d(in_channels, out_channels, kernel_size=3, stride=stride, padding=1, bias=False),\n",
        "            nn.BatchNorm2d(out_channels),\n",
        "            nn.ReLU(inplace=True),\n",
        "            nn.Conv2d(out_channels, out_channels, kernel_size=3, stride=1, padding=1, bias=False),\n",
        "            nn.BatchNorm2d(out_channels)\n",
        "        )\n",
        "\n",
        "        self.shortcut = nn.Sequential()\n",
        "        if stride != 1 or in_channels != self.expansion * out_channels:\n",
        "            self.shortcut = nn.Sequential(\n",
        "                nn.Conv2d(in_channels, self.expansion * out_channels, kernel_size=1, stride=stride, bias=False),\n",
        "                nn.BatchNorm2d(self.expansion * out_channels),\n",
        "            )\n",
        "\n",
        "    def forward(self, x):\n",
        "        out = self.features(x)\n",
        "        out += self.shortcut(x)\n",
        "        out = torch.relu(out)\n",
        "        return out"
      ],
      "metadata": {
        "id": "UNtTujAVqIxg"
      },
      "execution_count": 26,
      "outputs": []
    },
    {
      "cell_type": "code",
      "source": [
        "\n",
        "basic_block = BasicBlock(64, 128)\n",
        "print(basic_block)\n",
        "x = torch.randn(2, 64, 500, 12)\n",
        "y = basic_block(x)\n",
        "print(y.shape)"
      ],
      "metadata": {
        "colab": {
          "base_uri": "https://localhost:8080/"
        },
        "id": "98mwp5MSqcH2",
        "outputId": "d6c0c78d-b6f8-4c8a-a1a1-3e57950b40a6"
      },
      "execution_count": 27,
      "outputs": [
        {
          "output_type": "stream",
          "name": "stdout",
          "text": [
            "BasicBlock(\n",
            "  (features): Sequential(\n",
            "    (0): Conv2d(64, 128, kernel_size=(3, 3), stride=(1, 1), padding=(1, 1), bias=False)\n",
            "    (1): BatchNorm2d(128, eps=1e-05, momentum=0.1, affine=True, track_running_stats=True)\n",
            "    (2): ReLU(inplace=True)\n",
            "    (3): Conv2d(128, 128, kernel_size=(3, 3), stride=(1, 1), padding=(1, 1), bias=False)\n",
            "    (4): BatchNorm2d(128, eps=1e-05, momentum=0.1, affine=True, track_running_stats=True)\n",
            "  )\n",
            "  (shortcut): Sequential(\n",
            "    (0): Conv2d(64, 128, kernel_size=(1, 1), stride=(1, 1), bias=False)\n",
            "    (1): BatchNorm2d(128, eps=1e-05, momentum=0.1, affine=True, track_running_stats=True)\n",
            "  )\n",
            ")\n",
            "torch.Size([2, 128, 500, 12])\n"
          ]
        }
      ]
    },
    {
      "cell_type": "code",
      "source": [
        "class Bottleneck(nn.Module):\n",
        "\n",
        "    expansion = 4\n",
        "\n",
        "    def __init__(self, in_channels, zip_channels, stride=1):\n",
        "        super(Bottleneck, self).__init__()\n",
        "        out_channels = self.expansion * zip_channels\n",
        "        self.features = nn.Sequential(\n",
        "            nn.Conv2d(in_channels, zip_channels, kernel_size=1, bias=False),\n",
        "            nn.BatchNorm2d(zip_channels),\n",
        "            nn.ReLU(inplace=True),\n",
        "            nn.Conv2d(zip_channels, zip_channels, kernel_size=3, stride=stride, padding=1, bias=False),\n",
        "            nn.BatchNorm2d(zip_channels),\n",
        "            nn.ReLU(inplace=True),\n",
        "            nn.Conv2d(zip_channels, out_channels, kernel_size=1, bias=False),\n",
        "            nn.BatchNorm2d(out_channels)\n",
        "        )\n",
        "        self.shortcut = nn.Sequential()\n",
        "        if stride != 1 or in_channels != out_channels:\n",
        "            self.shortcut = nn.Sequential(\n",
        "                nn.Conv2d(in_channels, out_channels, kernel_size=1, stride=stride, bias=False),\n",
        "                nn.BatchNorm2d(out_channels)\n",
        "            )\n",
        "\n",
        "    def forward(self, x):\n",
        "        out = self.features(x)\n",
        "        out += self.shortcut(x)\n",
        "        out = torch.relu(out)\n",
        "        return out"
      ],
      "metadata": {
        "id": "4Y-b5Gs-qeoJ"
      },
      "execution_count": 28,
      "outputs": []
    },
    {
      "cell_type": "code",
      "source": [
        "bottleneck = Bottleneck(256, 128)\n",
        "print(bottleneck)\n",
        "x = torch.randn(2, 256, 32, 32)\n",
        "y = bottleneck(x)\n",
        "print(y.shape)"
      ],
      "metadata": {
        "colab": {
          "base_uri": "https://localhost:8080/"
        },
        "id": "I-u1l6ZLquso",
        "outputId": "bb849199-184f-4c2e-ed0e-591b2cfd9eca"
      },
      "execution_count": 29,
      "outputs": [
        {
          "output_type": "stream",
          "name": "stdout",
          "text": [
            "Bottleneck(\n",
            "  (features): Sequential(\n",
            "    (0): Conv2d(256, 128, kernel_size=(1, 1), stride=(1, 1), bias=False)\n",
            "    (1): BatchNorm2d(128, eps=1e-05, momentum=0.1, affine=True, track_running_stats=True)\n",
            "    (2): ReLU(inplace=True)\n",
            "    (3): Conv2d(128, 128, kernel_size=(3, 3), stride=(1, 1), padding=(1, 1), bias=False)\n",
            "    (4): BatchNorm2d(128, eps=1e-05, momentum=0.1, affine=True, track_running_stats=True)\n",
            "    (5): ReLU(inplace=True)\n",
            "    (6): Conv2d(128, 512, kernel_size=(1, 1), stride=(1, 1), bias=False)\n",
            "    (7): BatchNorm2d(512, eps=1e-05, momentum=0.1, affine=True, track_running_stats=True)\n",
            "  )\n",
            "  (shortcut): Sequential(\n",
            "    (0): Conv2d(256, 512, kernel_size=(1, 1), stride=(1, 1), bias=False)\n",
            "    (1): BatchNorm2d(512, eps=1e-05, momentum=0.1, affine=True, track_running_stats=True)\n",
            "  )\n",
            ")\n",
            "torch.Size([2, 512, 32, 32])\n"
          ]
        }
      ]
    },
    {
      "cell_type": "code",
      "source": [
        "class ResNet(nn.Module):\n",
        "    \"\"\"\n",
        "    ResNet architecture for processing input images. This class initializes the network with\n",
        "    convolutional layers, followed by multiple residual blocks, average pooling, and a final\n",
        "    fully connected layer for classification.\n",
        "\n",
        "    The network architecture is designed to process input images and output class scores for\n",
        "    a specified number of classes. It utilizes the concept of residual learning with either\n",
        "    BasicBlock or Bottleneck blocks to enable deep network architectures.\n",
        "    \"\"\"\n",
        "\n",
        "    def __init__(self, block, num_blocks, num_classes=5):\n",
        "        super(ResNet, self).__init__()\n",
        "        self.in_channels = 64\n",
        "        self.features = nn.Sequential(\n",
        "            nn.Conv2d(1, 64, kernel_size=(7, 1), stride=(2, 1), padding=1, bias=False),\n",
        "            nn.BatchNorm2d(64),\n",
        "            nn.ReLU(inplace=True)\n",
        "        )\n",
        "        # Initialize residual blocks\n",
        "        self.layer1 = self._make_layer(block, 64, num_blocks[0], stride=1)\n",
        "        self.layer2 = self._make_layer(block, 128, num_blocks[1], stride=2)\n",
        "        self.layer3 = self._make_layer(block, 256, num_blocks[2], stride=2)\n",
        "        self.layer4 = self._make_layer(block, 512, num_blocks[3], stride=2)\n",
        "\n",
        "        # Use adaptive average pooling to ensure the output size is (batch_size, channels, 1, 1)\n",
        "        self.avg_pool = nn.AdaptiveAvgPool2d((1, 1))\n",
        "\n",
        "        # The classifier linear layer; adjust in_features based on the block expansion and the output of avg_pool\n",
        "        self.classifier = nn.Linear(512 * block.expansion, num_classes)\n",
        "\n",
        "    def _make_layer(self, block, out_channels, num_blocks, stride):\n",
        "        strides = [stride] + [1] * (num_blocks - 1)\n",
        "        layers = []\n",
        "        for stride in strides:\n",
        "            layers.append(block(self.in_channels, out_channels, stride))\n",
        "            self.in_channels = out_channels * block.expansion\n",
        "        return nn.Sequential(*layers)\n",
        "\n",
        "    def forward(self, x):\n",
        "        # Pass input through the initial features\n",
        "        out = self.features(x)\n",
        "\n",
        "        # Pass through each residual layer\n",
        "        out = self.layer1(out)\n",
        "        out = self.layer2(out)\n",
        "        out = self.layer3(out)\n",
        "        out = self.layer4(out)\n",
        "\n",
        "        # Apply adaptive average pooling and flatten the output\n",
        "        out = self.avg_pool(out)\n",
        "        out = out.view(out.size(0), -1)  # Flatten the output for the fully connected layer\n",
        "\n",
        "        # Pass through the classifier to get class scores\n",
        "        out = self.classifier(out)\n",
        "        return out"
      ],
      "metadata": {
        "id": "HVZb8Sp7qwmC"
      },
      "execution_count": 30,
      "outputs": []
    },
    {
      "cell_type": "code",
      "source": [
        "def ResNet34():\n",
        "    return ResNet(BasicBlock, [3,4,6,3])"
      ],
      "metadata": {
        "id": "qn-dnpCoq6Kx"
      },
      "execution_count": 31,
      "outputs": []
    },
    {
      "cell_type": "code",
      "source": [
        "net = ResNet34().to(device)\n",
        "if device == 'cuda':\n",
        "    net = nn.DataParallel(net)\n",
        "    torch.backends.cudnn.benchmark = True"
      ],
      "metadata": {
        "id": "6zh3RHBrq77F"
      },
      "execution_count": 32,
      "outputs": []
    },
    {
      "cell_type": "markdown",
      "source": [
        "Train Model"
      ],
      "metadata": {
        "id": "vb0nn37qrM-9"
      }
    },
    {
      "cell_type": "code",
      "source": [
        "lr = 1e-1\n",
        "momentum = 0.9\n",
        "weight_decay = 5e-4\n",
        "\n",
        "criterion = nn.CrossEntropyLoss()\n",
        "optimizer = optim.SGD(net.parameters(), lr=lr, momentum=momentum, weight_decay=weight_decay)\n",
        "scheduler = optim.lr_scheduler.ReduceLROnPlateau(optimizer, threshold=0.1, patience=3, verbose=True)"
      ],
      "metadata": {
        "id": "PhuJy4wWrOJf"
      },
      "execution_count": 33,
      "outputs": []
    },
    {
      "cell_type": "code",
      "source": [
        "# training function\n",
        "def train(epoch):\n",
        "    print('\\nEpoch: %d' % (epoch))\n",
        "    net.train()\n",
        "    train_loss = torch.Tensor([0.0]).float().to(device)\n",
        "    correct = 0\n",
        "    total = 0\n",
        "    for batch_idx, (inputs, targets) in enumerate(train_loader):\n",
        "        inputs, targets = inputs.to(device), targets.to(device)\n",
        "        optimizer.zero_grad()\n",
        "        outputs = net(inputs)\n",
        "        loss = criterion(outputs, targets.long())\n",
        "        loss.backward()\n",
        "        optimizer.step()\n",
        "\n",
        "        train_loss += loss.item()\n",
        "        _, predicted = outputs.max(1)\n",
        "        total += targets.size(0)\n",
        "        correct += predicted.eq(targets).sum().item()\n",
        "        if batch_idx % 100 == 99:    # print every 100 mini-batches\n",
        "            print('[%d, %5d] loss: %.6f |  Acc: %.3f%% (%d/%d)' %\n",
        "              (epoch + 1, batch_idx + 1, train_loss.item(), 100.*correct/total, correct, total))\n",
        "    return train_loss, (100.*correct/total)"
      ],
      "metadata": {
        "id": "UrkbkXRorOlu"
      },
      "execution_count": 34,
      "outputs": []
    },
    {
      "cell_type": "code",
      "source": [
        "load_model = False\n",
        "if load_model:\n",
        "    checkpoint = torch.load('./checkpoint/res18.ckpt')\n",
        "    net.load_state_dict(checkpoint['net'])\n",
        "    start_epoch = checkpoint['epoch']\n",
        "else:\n",
        "    start_epoch = 0\n",
        "print('start_epoch: %s' % start_epoch)"
      ],
      "metadata": {
        "id": "Uz1c5T9ZrdUY"
      },
      "execution_count": null,
      "outputs": []
    },
    {
      "cell_type": "code",
      "source": [
        "train_metrics = {\n",
        "    'epoch': list(),\n",
        "    'loss': list(),\n",
        "    'accuracy': list()\n",
        "}\n",
        "test_metrics = {\n",
        "    'epoch': list(),\n",
        "    'loss': list(),\n",
        "    'accuracy': list()\n",
        "}\n",
        "train_loss_list = list()\n",
        "accuracy_list = list()\n",
        "total_epochs = 5\n",
        "for epoch in range(start_epoch, total_epochs):\n",
        "    loss, accuracy = train(epoch)\n",
        "    train_metrics['epoch'].append(epoch)\n",
        "    train_metrics['loss'].append(loss)\n",
        "    train_metrics['accuracy'].append(accuracy)\n",
        "    print('Total loss: %.6f' % loss)\n",
        "    start_epoch = epoch\n",
        "    scheduler.step(loss)\n",
        "\n",
        "    # Validation loop\n",
        "    net.eval()\n",
        "    val_loss = 0.0\n",
        "    correct = 0\n",
        "    total = 0\n",
        "    with torch.no_grad():\n",
        "        for inputs, labels in test_loader:\n",
        "            outputs = net(inputs.to(device))\n",
        "            loss = criterion(outputs, labels.long().to(device))\n",
        "            val_loss += loss.item()\n",
        "            _, predicted = torch.max(outputs.data, 1)\n",
        "            total += labels.size(0)\n",
        "            correct += (predicted == labels.to(device)).sum().item()\n",
        "    test_metrics['loss'].append(loss)\n",
        "    test_metrics['accuracy'].append(100.*correct/total)\n",
        "    test_metrics['epoch'].append(epoch)\n",
        "    print(f'Epoch {epoch + 1}/{total_epochs}, Loss: {loss.item():.4f}, Validation Accuracy: {100 * correct / total:.2f}%')"
      ],
      "metadata": {
        "id": "Y1P_4nY0rf9X"
      },
      "execution_count": null,
      "outputs": []
    },
    {
      "cell_type": "code",
      "source": [
        "torch.save(net.state_dict(), 'resnet.pth')"
      ],
      "metadata": {
        "id": "yoD_Ui77VjY6"
      },
      "execution_count": null,
      "outputs": []
    },
    {
      "cell_type": "code",
      "source": [
        "shutil.copy('resnet.pth', '/content/gdrive/MyDrive/Physionet_NPY_DATA')"
      ],
      "metadata": {
        "colab": {
          "base_uri": "https://localhost:8080/",
          "height": 36
        },
        "id": "IZx-ObutrQHH",
        "outputId": "019b6bb6-f88d-46e6-a1cc-8c2fdc6fcef5"
      },
      "execution_count": 50,
      "outputs": [
        {
          "output_type": "execute_result",
          "data": {
            "text/plain": [
              "'/content/gdrive/MyDrive/Physionet_NPY_DATA/resnet.pth'"
            ],
            "application/vnd.google.colaboratory.intrinsic+json": {
              "type": "string"
            }
          },
          "metadata": {},
          "execution_count": 50
        }
      ]
    },
    {
      "cell_type": "code",
      "source": [
        "test_metrics['loss'] = [_.cpu() for _ in test_metrics['loss']]"
      ],
      "metadata": {
        "id": "YC51ih9cGQDx"
      },
      "execution_count": 51,
      "outputs": []
    },
    {
      "cell_type": "code",
      "source": [
        "\n",
        "train_metrics['loss'] = [_.cpu() for _ in train_metrics['loss']]"
      ],
      "metadata": {
        "id": "0GDkUDRLGbwi"
      },
      "execution_count": 52,
      "outputs": []
    },
    {
      "cell_type": "code",
      "source": [
        "test_metrics['loss']"
      ],
      "metadata": {
        "colab": {
          "base_uri": "https://localhost:8080/"
        },
        "id": "e5U2_AckGn5U",
        "outputId": "f3a65552-2fdc-4015-c612-811df12f0429"
      },
      "execution_count": 53,
      "outputs": [
        {
          "output_type": "execute_result",
          "data": {
            "text/plain": [
              "[tensor(1.9355),\n",
              " tensor(1.1979),\n",
              " tensor(1.1739),\n",
              " tensor(1.0026),\n",
              " tensor(1.0256)]"
            ]
          },
          "metadata": {},
          "execution_count": 53
        }
      ]
    },
    {
      "cell_type": "code",
      "source": [
        "plt.title(\"Distribution of Losses on train and test set (pre-trained model)\")\n",
        "plt.hist(test_metrics['loss'], density=True, alpha=0.5, bins=50, label=\"Test set\")\n",
        "plt.hist(train_metrics['loss'], density=True, alpha=0.5, bins=50, label=\"Train set\")\n",
        "plt.xlabel(\"Loss\", fontsize=14)\n",
        "plt.ylabel(\"Frequency\", fontsize=14)\n",
        "plt.xlim((0, np.max(test_metrics['loss'])))\n",
        "plt.yscale(\"log\")\n",
        "plt.legend(frameon=False, fontsize=14)\n",
        "ax = plt.gca()\n",
        "ax.spines[\"top\"].set_visible(False)\n",
        "ax.spines[\"right\"].set_visible(False)\n",
        "plt.show()"
      ],
      "metadata": {
        "colab": {
          "base_uri": "https://localhost:8080/",
          "height": 481
        },
        "id": "1B9GfhX7Ev4R",
        "outputId": "bd59c42c-944a-4693-cad5-7ab66a90e603"
      },
      "execution_count": 54,
      "outputs": [
        {
          "output_type": "display_data",
          "data": {
            "text/plain": [
              "<Figure size 640x480 with 1 Axes>"
            ],
            "image/png": "[encoded data removed]"
          },
          "metadata": {}
        }
      ]
    },
    {
      "cell_type": "code",
      "source": [
        "plt.title(\"Distribution of Losses on train and test set (pre-trained model)\")\n",
        "plt.xlabel(\"Loss\", fontsize=14)\n",
        "plt.ylabel(\"Frequency\", fontsize=14)\n",
        "plt.xlim((0, np.max(test_metrics['loss'])))\n",
        "plt.yscale(\"log\")\n",
        "plt.legend(frameon=False, fontsize=14)\n",
        "ax = plt.gca()\n",
        "ax.spines[\"top\"].set_visible(False)\n",
        "ax.spines[\"right\"].set_visible(False)\n",
        "plt.show()"
      ],
      "metadata": {
        "colab": {
          "base_uri": "https://localhost:8080/",
          "height": 518
        },
        "id": "HUJdMHeoEvZF",
        "outputId": "bb3afdef-2dc9-4725-de96-196297976338"
      },
      "execution_count": 55,
      "outputs": [
        {
          "output_type": "stream",
          "name": "stderr",
          "text": [
            "WARNING:matplotlib.legend:No artists with labels found to put in legend.  Note that artists whose label start with an underscore are ignored when legend() is called with no argument.\n"
          ]
        },
        {
          "output_type": "display_data",
          "data": {
            "text/plain": [
              "<Figure size 640x480 with 1 Axes>"
            ],
            "image/png": "[encoded data removed]"
          },
          "metadata": {}
        }
      ]
    },
    {
      "cell_type": "code",
      "source": [
        "plt.title(\"Train Loss\")\n",
        "plt.plot(train_metrics['loss'])\n",
        "plt.xlabel(\"Epochs\", fontsize=14)\n",
        "plt.ylabel(\"Loss\", fontsize=14)\n",
        "plt.show()"
      ],
      "metadata": {
        "colab": {
          "base_uri": "https://localhost:8080/",
          "height": 481
        },
        "id": "QOR0lgdBEvRl",
        "outputId": "6683501a-06fe-446c-cd5d-b13e451e5519"
      },
      "execution_count": 56,
      "outputs": [
        {
          "output_type": "display_data",
          "data": {
            "text/plain": [
              "<Figure size 640x480 with 1 Axes>"
            ],
            "image/png": "[encoded data removed]"
          },
          "metadata": {}
        }
      ]
    },
    {
      "cell_type": "code",
      "source": [
        "plt.title(\"Test Loss\")\n",
        "plt.plot(test_metrics['loss'])\n",
        "plt.xlabel(\"Epochs\", fontsize=14)\n",
        "plt.ylabel(\"Loss\", fontsize=14)\n",
        "plt.show()"
      ],
      "metadata": {
        "colab": {
          "base_uri": "https://localhost:8080/",
          "height": 481
        },
        "id": "BTgh-RULHxrD",
        "outputId": "8b12ac48-f18a-484a-88a0-0ae6556917fa"
      },
      "execution_count": 57,
      "outputs": [
        {
          "output_type": "display_data",
          "data": {
            "text/plain": [
              "<Figure size 640x480 with 1 Axes>"
            ],
            "image/png": "[encoded data removed]"
          },
          "metadata": {}
        }
      ]
    },
    {
      "cell_type": "code",
      "source": [
        "def compute_losses(net, loader):\n",
        "    \"\"\"Auxiliary function to compute per-sample losses\"\"\"\n",
        "\n",
        "    criterion = nn.CrossEntropyLoss(reduction=\"none\")\n",
        "    all_losses = []\n",
        "\n",
        "    for inputs, targets in loader:\n",
        "        inputs, targets = inputs.to(device), targets.to(device)\n",
        "\n",
        "        logits = net(inputs)\n",
        "        losses = criterion(logits, targets.long()).numpy(force=True)\n",
        "        for l in losses:\n",
        "            all_losses.append(l)\n",
        "\n",
        "    return np.array(all_losses)\n",
        "\n",
        "\n",
        "train_losses = compute_losses(net, train_loader)"
      ],
      "metadata": {
        "id": "Bg8ewS08IWof"
      },
      "execution_count": 58,
      "outputs": []
    },
    {
      "cell_type": "code",
      "source": [
        "torch.cuda.empty_cache()\n",
        "from tqdm import tqdm"
      ],
      "metadata": {
        "id": "XB4wrf4HTfuD"
      },
      "execution_count": 93,
      "outputs": []
    },
    {
      "cell_type": "code",
      "source": [
        "# del net"
      ],
      "metadata": {
        "id": "74qarW2XUr69"
      },
      "execution_count": 95,
      "outputs": []
    },
    {
      "cell_type": "code",
      "source": [
        "net = ResNet34().to(device)\n",
        "# chk = torch.load('resnet.pth')\n",
        "# model.load_state_dict(chk['model_state_dict'])\n",
        "state_dict = torch.load('/content/gdrive/MyDrive/Physionet_NPY_DATA/resnet.pth')\n",
        "\n",
        "# Apply the weights\n",
        "net.load_state_dict(state_dict)"
      ],
      "metadata": {
        "colab": {
          "base_uri": "https://localhost:8080/"
        },
        "id": "o2BxIfHtV8Dw",
        "outputId": "b1c9359a-07a6-426e-8d56-efa3435e3ba3"
      },
      "execution_count": 35,
      "outputs": [
        {
          "output_type": "execute_result",
          "data": {
            "text/plain": [
              "<All keys matched successfully>"
            ]
          },
          "metadata": {},
          "execution_count": 35
        }
      ]
    },
    {
      "cell_type": "code",
      "source": [
        "net.eval()"
      ],
      "metadata": {
        "colab": {
          "base_uri": "https://localhost:8080/"
        },
        "id": "_4Gn7acUYl7d",
        "outputId": "e634c160-e08e-4b59-952e-320b34751371"
      },
      "execution_count": 36,
      "outputs": [
        {
          "output_type": "execute_result",
          "data": {
            "text/plain": [
              "ResNet(\n",
              "  (features): Sequential(\n",
              "    (0): Conv2d(1, 64, kernel_size=(7, 1), stride=(2, 1), padding=(1, 1), bias=False)\n",
              "    (1): BatchNorm2d(64, eps=1e-05, momentum=0.1, affine=True, track_running_stats=True)\n",
              "    (2): ReLU(inplace=True)\n",
              "  )\n",
              "  (layer1): Sequential(\n",
              "    (0): BasicBlock(\n",
              "      (features): Sequential(\n",
              "        (0): Conv2d(64, 64, kernel_size=(3, 3), stride=(1, 1), padding=(1, 1), bias=False)\n",
              "        (1): BatchNorm2d(64, eps=1e-05, momentum=0.1, affine=True, track_running_stats=True)\n",
              "        (2): ReLU(inplace=True)\n",
              "        (3): Conv2d(64, 64, kernel_size=(3, 3), stride=(1, 1), padding=(1, 1), bias=False)\n",
              "        (4): BatchNorm2d(64, eps=1e-05, momentum=0.1, affine=True, track_running_stats=True)\n",
              "      )\n",
              "      (shortcut): Sequential()\n",
              "    )\n",
              "    (1): BasicBlock(\n",
              "      (features): Sequential(\n",
              "        (0): Conv2d(64, 64, kernel_size=(3, 3), stride=(1, 1), padding=(1, 1), bias=False)\n",
              "        (1): BatchNorm2d(64, eps=1e-05, momentum=0.1, affine=True, track_running_stats=True)\n",
              "        (2): ReLU(inplace=True)\n",
              "        (3): Conv2d(64, 64, kernel_size=(3, 3), stride=(1, 1), padding=(1, 1), bias=False)\n",
              "        (4): BatchNorm2d(64, eps=1e-05, momentum=0.1, affine=True, track_running_stats=True)\n",
              "      )\n",
              "      (shortcut): Sequential()\n",
              "    )\n",
              "    (2): BasicBlock(\n",
              "      (features): Sequential(\n",
              "        (0): Conv2d(64, 64, kernel_size=(3, 3), stride=(1, 1), padding=(1, 1), bias=False)\n",
              "        (1): BatchNorm2d(64, eps=1e-05, momentum=0.1, affine=True, track_running_stats=True)\n",
              "        (2): ReLU(inplace=True)\n",
              "        (3): Conv2d(64, 64, kernel_size=(3, 3), stride=(1, 1), padding=(1, 1), bias=False)\n",
              "        (4): BatchNorm2d(64, eps=1e-05, momentum=0.1, affine=True, track_running_stats=True)\n",
              "      )\n",
              "      (shortcut): Sequential()\n",
              "    )\n",
              "  )\n",
              "  (layer2): Sequential(\n",
              "    (0): BasicBlock(\n",
              "      (features): Sequential(\n",
              "        (0): Conv2d(64, 128, kernel_size=(3, 3), stride=(2, 2), padding=(1, 1), bias=False)\n",
              "        (1): BatchNorm2d(128, eps=1e-05, momentum=0.1, affine=True, track_running_stats=True)\n",
              "        (2): ReLU(inplace=True)\n",
              "        (3): Conv2d(128, 128, kernel_size=(3, 3), stride=(1, 1), padding=(1, 1), bias=False)\n",
              "        (4): BatchNorm2d(128, eps=1e-05, momentum=0.1, affine=True, track_running_stats=True)\n",
              "      )\n",
              "      (shortcut): Sequential(\n",
              "        (0): Conv2d(64, 128, kernel_size=(1, 1), stride=(2, 2), bias=False)\n",
              "        (1): BatchNorm2d(128, eps=1e-05, momentum=0.1, affine=True, track_running_stats=True)\n",
              "      )\n",
              "    )\n",
              "    (1): BasicBlock(\n",
              "      (features): Sequential(\n",
              "        (0): Conv2d(128, 128, kernel_size=(3, 3), stride=(1, 1), padding=(1, 1), bias=False)\n",
              "        (1): BatchNorm2d(128, eps=1e-05, momentum=0.1, affine=True, track_running_stats=True)\n",
              "        (2): ReLU(inplace=True)\n",
              "        (3): Conv2d(128, 128, kernel_size=(3, 3), stride=(1, 1), padding=(1, 1), bias=False)\n",
              "        (4): BatchNorm2d(128, eps=1e-05, momentum=0.1, affine=True, track_running_stats=True)\n",
              "      )\n",
              "      (shortcut): Sequential()\n",
              "    )\n",
              "    (2): BasicBlock(\n",
              "      (features): Sequential(\n",
              "        (0): Conv2d(128, 128, kernel_size=(3, 3), stride=(1, 1), padding=(1, 1), bias=False)\n",
              "        (1): BatchNorm2d(128, eps=1e-05, momentum=0.1, affine=True, track_running_stats=True)\n",
              "        (2): ReLU(inplace=True)\n",
              "        (3): Conv2d(128, 128, kernel_size=(3, 3), stride=(1, 1), padding=(1, 1), bias=False)\n",
              "        (4): BatchNorm2d(128, eps=1e-05, momentum=0.1, affine=True, track_running_stats=True)\n",
              "      )\n",
              "      (shortcut): Sequential()\n",
              "    )\n",
              "    (3): BasicBlock(\n",
              "      (features): Sequential(\n",
              "        (0): Conv2d(128, 128, kernel_size=(3, 3), stride=(1, 1), padding=(1, 1), bias=False)\n",
              "        (1): BatchNorm2d(128, eps=1e-05, momentum=0.1, affine=True, track_running_stats=True)\n",
              "        (2): ReLU(inplace=True)\n",
              "        (3): Conv2d(128, 128, kernel_size=(3, 3), stride=(1, 1), padding=(1, 1), bias=False)\n",
              "        (4): BatchNorm2d(128, eps=1e-05, momentum=0.1, affine=True, track_running_stats=True)\n",
              "      )\n",
              "      (shortcut): Sequential()\n",
              "    )\n",
              "  )\n",
              "  (layer3): Sequential(\n",
              "    (0): BasicBlock(\n",
              "      (features): Sequential(\n",
              "        (0): Conv2d(128, 256, kernel_size=(3, 3), stride=(2, 2), padding=(1, 1), bias=False)\n",
              "        (1): BatchNorm2d(256, eps=1e-05, momentum=0.1, affine=True, track_running_stats=True)\n",
              "        (2): ReLU(inplace=True)\n",
              "        (3): Conv2d(256, 256, kernel_size=(3, 3), stride=(1, 1), padding=(1, 1), bias=False)\n",
              "        (4): BatchNorm2d(256, eps=1e-05, momentum=0.1, affine=True, track_running_stats=True)\n",
              "      )\n",
              "      (shortcut): Sequential(\n",
              "        (0): Conv2d(128, 256, kernel_size=(1, 1), stride=(2, 2), bias=False)\n",
              "        (1): BatchNorm2d(256, eps=1e-05, momentum=0.1, affine=True, track_running_stats=True)\n",
              "      )\n",
              "    )\n",
              "    (1): BasicBlock(\n",
              "      (features): Sequential(\n",
              "        (0): Conv2d(256, 256, kernel_size=(3, 3), stride=(1, 1), padding=(1, 1), bias=False)\n",
              "        (1): BatchNorm2d(256, eps=1e-05, momentum=0.1, affine=True, track_running_stats=True)\n",
              "        (2): ReLU(inplace=True)\n",
              "        (3): Conv2d(256, 256, kernel_size=(3, 3), stride=(1, 1), padding=(1, 1), bias=False)\n",
              "        (4): BatchNorm2d(256, eps=1e-05, momentum=0.1, affine=True, track_running_stats=True)\n",
              "      )\n",
              "      (shortcut): Sequential()\n",
              "    )\n",
              "    (2): BasicBlock(\n",
              "      (features): Sequential(\n",
              "        (0): Conv2d(256, 256, kernel_size=(3, 3), stride=(1, 1), padding=(1, 1), bias=False)\n",
              "        (1): BatchNorm2d(256, eps=1e-05, momentum=0.1, affine=True, track_running_stats=True)\n",
              "        (2): ReLU(inplace=True)\n",
              "        (3): Conv2d(256, 256, kernel_size=(3, 3), stride=(1, 1), padding=(1, 1), bias=False)\n",
              "        (4): BatchNorm2d(256, eps=1e-05, momentum=0.1, affine=True, track_running_stats=True)\n",
              "      )\n",
              "      (shortcut): Sequential()\n",
              "    )\n",
              "    (3): BasicBlock(\n",
              "      (features): Sequential(\n",
              "        (0): Conv2d(256, 256, kernel_size=(3, 3), stride=(1, 1), padding=(1, 1), bias=False)\n",
              "        (1): BatchNorm2d(256, eps=1e-05, momentum=0.1, affine=True, track_running_stats=True)\n",
              "        (2): ReLU(inplace=True)\n",
              "        (3): Conv2d(256, 256, kernel_size=(3, 3), stride=(1, 1), padding=(1, 1), bias=False)\n",
              "        (4): BatchNorm2d(256, eps=1e-05, momentum=0.1, affine=True, track_running_stats=True)\n",
              "      )\n",
              "      (shortcut): Sequential()\n",
              "    )\n",
              "    (4): BasicBlock(\n",
              "      (features): Sequential(\n",
              "        (0): Conv2d(256, 256, kernel_size=(3, 3), stride=(1, 1), padding=(1, 1), bias=False)\n",
              "        (1): BatchNorm2d(256, eps=1e-05, momentum=0.1, affine=True, track_running_stats=True)\n",
              "        (2): ReLU(inplace=True)\n",
              "        (3): Conv2d(256, 256, kernel_size=(3, 3), stride=(1, 1), padding=(1, 1), bias=False)\n",
              "        (4): BatchNorm2d(256, eps=1e-05, momentum=0.1, affine=True, track_running_stats=True)\n",
              "      )\n",
              "      (shortcut): Sequential()\n",
              "    )\n",
              "    (5): BasicBlock(\n",
              "      (features): Sequential(\n",
              "        (0): Conv2d(256, 256, kernel_size=(3, 3), stride=(1, 1), padding=(1, 1), bias=False)\n",
              "        (1): BatchNorm2d(256, eps=1e-05, momentum=0.1, affine=True, track_running_stats=True)\n",
              "        (2): ReLU(inplace=True)\n",
              "        (3): Conv2d(256, 256, kernel_size=(3, 3), stride=(1, 1), padding=(1, 1), bias=False)\n",
              "        (4): BatchNorm2d(256, eps=1e-05, momentum=0.1, affine=True, track_running_stats=True)\n",
              "      )\n",
              "      (shortcut): Sequential()\n",
              "    )\n",
              "  )\n",
              "  (layer4): Sequential(\n",
              "    (0): BasicBlock(\n",
              "      (features): Sequential(\n",
              "        (0): Conv2d(256, 512, kernel_size=(3, 3), stride=(2, 2), padding=(1, 1), bias=False)\n",
              "        (1): BatchNorm2d(512, eps=1e-05, momentum=0.1, affine=True, track_running_stats=True)\n",
              "        (2): ReLU(inplace=True)\n",
              "        (3): Conv2d(512, 512, kernel_size=(3, 3), stride=(1, 1), padding=(1, 1), bias=False)\n",
              "        (4): BatchNorm2d(512, eps=1e-05, momentum=0.1, affine=True, track_running_stats=True)\n",
              "      )\n",
              "      (shortcut): Sequential(\n",
              "        (0): Conv2d(256, 512, kernel_size=(1, 1), stride=(2, 2), bias=False)\n",
              "        (1): BatchNorm2d(512, eps=1e-05, momentum=0.1, affine=True, track_running_stats=True)\n",
              "      )\n",
              "    )\n",
              "    (1): BasicBlock(\n",
              "      (features): Sequential(\n",
              "        (0): Conv2d(512, 512, kernel_size=(3, 3), stride=(1, 1), padding=(1, 1), bias=False)\n",
              "        (1): BatchNorm2d(512, eps=1e-05, momentum=0.1, affine=True, track_running_stats=True)\n",
              "        (2): ReLU(inplace=True)\n",
              "        (3): Conv2d(512, 512, kernel_size=(3, 3), stride=(1, 1), padding=(1, 1), bias=False)\n",
              "        (4): BatchNorm2d(512, eps=1e-05, momentum=0.1, affine=True, track_running_stats=True)\n",
              "      )\n",
              "      (shortcut): Sequential()\n",
              "    )\n",
              "    (2): BasicBlock(\n",
              "      (features): Sequential(\n",
              "        (0): Conv2d(512, 512, kernel_size=(3, 3), stride=(1, 1), padding=(1, 1), bias=False)\n",
              "        (1): BatchNorm2d(512, eps=1e-05, momentum=0.1, affine=True, track_running_stats=True)\n",
              "        (2): ReLU(inplace=True)\n",
              "        (3): Conv2d(512, 512, kernel_size=(3, 3), stride=(1, 1), padding=(1, 1), bias=False)\n",
              "        (4): BatchNorm2d(512, eps=1e-05, momentum=0.1, affine=True, track_running_stats=True)\n",
              "      )\n",
              "      (shortcut): Sequential()\n",
              "    )\n",
              "  )\n",
              "  (avg_pool): AdaptiveAvgPool2d(output_size=(1, 1))\n",
              "  (classifier): Linear(in_features=512, out_features=5, bias=True)\n",
              ")"
            ]
          },
          "metadata": {},
          "execution_count": 36
        }
      ]
    },
    {
      "cell_type": "code",
      "source": [
        "test_loader = torch.utils.data.DataLoader(test_dataset, batch_size=1, shuffle=False)\n",
        "all_losses = list()\n",
        "\n",
        "with torch.no_grad():\n",
        "    for batch_idx, (inputs, targets) in enumerate(test_loader):\n",
        "        inputs, targets = inputs.to(device), targets.to(device)\n",
        "        outputs = net(inputs)\n",
        "        # print(inputs.shape, targets.shape, outputs.shape)\n",
        "        loss = criterion(outputs, targets.long())\n",
        "        all_losses.append(loss)\n",
        "\n",
        "        # for inputs, labels in test_loader:\n",
        "        #     outputs = net(inputs.to(device))\n",
        "        #     loss = criterion(outputs, labels.long().to(device))\n",
        "\n",
        ""
      ],
      "metadata": {
        "id": "3VX0L0PSEuzJ"
      },
      "execution_count": 37,
      "outputs": []
    },
    {
      "cell_type": "code",
      "source": [
        "all_losses = [_.cpu() for _ in all_losses]"
      ],
      "metadata": {
        "id": "lZCPBwwWbC3U"
      },
      "execution_count": 38,
      "outputs": []
    },
    {
      "cell_type": "code",
      "source": [
        "plt.title('Distribution of losses')\n",
        "plt.hist(np.array(all_losses))\n",
        "plt.show()"
      ],
      "metadata": {
        "colab": {
          "base_uri": "https://localhost:8080/",
          "height": 457
        },
        "id": "feBaOFRJYWtW",
        "outputId": "d1cd9e4b-c5a9-45a2-e5f4-da970542359a"
      },
      "execution_count": 39,
      "outputs": [
        {
          "output_type": "display_data",
          "data": {
            "text/plain": [
              "<Figure size 640x480 with 1 Axes>"
            ],
            "image/png": "[encoded data removed]"
          },
          "metadata": {}
        }
      ]
    },
    {
      "cell_type": "code",
      "source": [
        "train_loader = torch.utils.data.DataLoader(train_dataset, batch_size=1, shuffle=False)\n",
        "all_losses_train = list()\n",
        "\n",
        "with torch.no_grad():\n",
        "    for batch_idx, (inputs, targets) in enumerate(train_loader):\n",
        "        inputs, targets = inputs.to(device), targets.to(device)\n",
        "        outputs = net(inputs)\n",
        "        # print(inputs.shape, targets.shape, outputs.shape)\n",
        "        loss = criterion(outputs, targets.long())\n",
        "        all_losses_train.append(loss)\n",
        "\n",
        "        # for inputs, labels in train_loader:\n",
        "        #     outputs = net(inputs.to(device))\n",
        "        #     loss = criterion(outputs, labels.long().to(device))\n",
        "\n",
        ""
      ],
      "metadata": {
        "id": "BkNfTH-6bKd0"
      },
      "execution_count": 40,
      "outputs": []
    },
    {
      "cell_type": "code",
      "source": [
        "all_losses_train = [_.cpu() for _ in all_losses_train]"
      ],
      "metadata": {
        "id": "72jsGL_fbxoj"
      },
      "execution_count": 41,
      "outputs": []
    },
    {
      "cell_type": "code",
      "source": [
        "# plt.title('Distribution of losses')\n",
        "# plt.hist(np.array(all_losses), bins=20, color='red', label='test', log=True)\n",
        "# plt.hist(np.array(all_losses_train), bins=20, color='blue', label='train', log=True)\n",
        "# plt.legend(loc='upper left')\n",
        "# plt.show()\n",
        "\n",
        "import seaborn as sns\n",
        "import matplotlib.pyplot as plt\n",
        "import numpy as np\n",
        "\n",
        "# Assuming all_losses and all_losses_train are your data lists\n",
        "\n",
        "# Set the style for the plot\n",
        "sns.set(style=\"whitegrid\")\n",
        "\n",
        "# Create a figure and axis\n",
        "fig, ax = plt.subplots()\n",
        "\n",
        "# Plot the distributions with opacity\n",
        "sns.histplot(np.array(all_losses)[:200], bins=30, color='red', label='test', log=True, alpha=0.5, ax=ax)\n",
        "sns.histplot(np.array(all_losses_train)[:200], bins=30, color='blue', label='train', log=True, alpha=0.5, ax=ax)\n",
        "\n",
        "# Set the title and legend\n",
        "plt.title('Distribution of Losses')\n",
        "plt.legend(loc='upper left')\n",
        "\n",
        "# Show the plot\n",
        "plt.show()\n"
      ],
      "metadata": {
        "colab": {
          "base_uri": "https://localhost:8080/",
          "height": 457
        },
        "id": "Z5uquD88bUmN",
        "outputId": "369a22a9-d6fa-4636-be11-0dcee8e8473c"
      },
      "execution_count": 42,
      "outputs": [
        {
          "output_type": "display_data",
          "data": {
            "text/plain": [
              "<Figure size 640x480 with 1 Axes>"
            ],
            "image/png": "[encoded data removed]"
          },
          "metadata": {}
        }
      ]
    },
    {
      "cell_type": "code",
      "source": [
        "np.mean(all_losses), np.mean(all_losses_train)"
      ],
      "metadata": {
        "colab": {
          "base_uri": "https://localhost:8080/"
        },
        "id": "vOGjB4JfcRzr",
        "outputId": "bb9a85bc-419e-4550-d252-d0f52e4384f3"
      },
      "execution_count": 43,
      "outputs": [
        {
          "output_type": "execute_result",
          "data": {
            "text/plain": [
              "(0.97184473, 0.88211584)"
            ]
          },
          "metadata": {},
          "execution_count": 43
        }
      ]
    },
    {
      "cell_type": "code",
      "source": [
        "with open('/content/x_patient.pkl', 'rb') as file:\n",
        "    x_patient = pickle.load(file)\n",
        "\n",
        "with open('/content/y_patient.pkl', 'rb') as file:\n",
        "    y_patient = pickle.load(file)"
      ],
      "metadata": {
        "id": "y-dXw8Uarx3C"
      },
      "execution_count": 98,
      "outputs": []
    },
    {
      "cell_type": "code",
      "source": [
        "y_patient"
      ],
      "metadata": {
        "colab": {
          "base_uri": "https://localhost:8080/"
        },
        "id": "K_-Q-2yphCWL",
        "outputId": "afcf764f-03ee-4faf-fc13-6a0609b34dbe"
      },
      "execution_count": 46,
      "outputs": [
        {
          "output_type": "execute_result",
          "data": {
            "text/plain": [
              "array([[list(['CD'])],\n",
              "       [list(['NORM'])],\n",
              "       [list(['NORM'])],\n",
              "       [list(['CD'])],\n",
              "       [list(['HYP', 'MI'])]], dtype=object)"
            ]
          },
          "metadata": {},
          "execution_count": 46
        }
      ]
    },
    {
      "cell_type": "code",
      "source": [
        "x_patient.shape"
      ],
      "metadata": {
        "colab": {
          "base_uri": "https://localhost:8080/"
        },
        "id": "hJvOim1OsD85",
        "outputId": "39cc9b25-94a0-4427-8be0-9dd61f6a070f"
      },
      "execution_count": 47,
      "outputs": [
        {
          "output_type": "execute_result",
          "data": {
            "text/plain": [
              "(5, 5000, 12)"
            ]
          },
          "metadata": {},
          "execution_count": 47
        }
      ]
    },
    {
      "cell_type": "code",
      "source": [
        "import numpy as np\n",
        "\n",
        "num_parts = 10\n",
        "segment_length = x_patient.shape[1] // num_parts\n",
        "\n",
        "# Initialize an empty list to store the segmented data\n",
        "segmented_data = []\n",
        "\n",
        "# Split each ECG signal into segments\n",
        "for ecg_signal in x_patient:\n",
        "    ecg_segments = [ecg_signal[i:i+segment_length, :] for i in range(0, ecg_signal.shape[0], segment_length)]\n",
        "    segmented_data.extend(ecg_segments)\n",
        "\n",
        "# Convert the list of segments to a NumPy array\n",
        "segmented_data = np.array(segmented_data)\n",
        "\n",
        "print(\"Original Data Shape:\", x_patient.shape)\n",
        "print(\"Segmented Data Shape:\", segmented_data.shape)\n"
      ],
      "metadata": {
        "colab": {
          "base_uri": "https://localhost:8080/"
        },
        "id": "7TKhLQKgeS9u",
        "outputId": "7da1167c-51ef-4e3c-eb88-5d89080cb783"
      },
      "execution_count": 49,
      "outputs": [
        {
          "output_type": "stream",
          "name": "stdout",
          "text": [
            "Original Data Shape: (5, 5000, 12)\n",
            "Segmented Data Shape: (50, 500, 12)\n"
          ]
        }
      ]
    },
    {
      "cell_type": "code",
      "source": [
        "import numpy as np\n",
        "\n",
        "batch_size = 500\n",
        "num_batches = x_patient.shape[1] // batch_size\n",
        "batches = np.array_split(x_patient, num_batches, axis=1)\n"
      ],
      "metadata": {
        "id": "ZyzJS3atsIVj"
      },
      "execution_count": 62,
      "outputs": []
    },
    {
      "cell_type": "code",
      "source": [
        "X_train = np.reshape(np.array(segmented_data), (50, 500, 12))"
      ],
      "metadata": {
        "id": "dI1QMUY7u09w"
      },
      "execution_count": 50,
      "outputs": []
    },
    {
      "cell_type": "code",
      "source": [
        "X_train.shape"
      ],
      "metadata": {
        "colab": {
          "base_uri": "https://localhost:8080/"
        },
        "id": "frofDF1hgPZb",
        "outputId": "4335f66b-cda6-4f54-90d8-c82bcc9cc8b1"
      },
      "execution_count": 51,
      "outputs": [
        {
          "output_type": "execute_result",
          "data": {
            "text/plain": [
              "(50, 500, 12)"
            ]
          },
          "metadata": {},
          "execution_count": 51
        }
      ]
    },
    {
      "cell_type": "code",
      "source": [
        "y_train = np.load(y_train_file_path, allow_pickle=True)\n",
        "y_train = y_train.reshape(len(y_train), 1)\n",
        "\n",
        "temp = None\n",
        "faulty_set = list()\n",
        "count = 0\n",
        "for items in y_train:\n",
        "\n",
        "    if len(items[0]) == 0:\n",
        "       count += 1\n",
        "       temp = items\n",
        "       faulty_set.append(temp)\n",
        "       continue\n",
        "\n",
        "\n"
      ],
      "metadata": {
        "id": "Tpu_pXk11T0O"
      },
      "execution_count": 52,
      "outputs": []
    },
    {
      "cell_type": "code",
      "source": [
        "y_train.shape"
      ],
      "metadata": {
        "colab": {
          "base_uri": "https://localhost:8080/"
        },
        "id": "V6frgtVZ2pfR",
        "outputId": "cd988643-43b3-44b0-cd51-8072847509b4"
      },
      "execution_count": 103,
      "outputs": [
        {
          "output_type": "execute_result",
          "data": {
            "text/plain": [
              "torch.Size([50])"
            ]
          },
          "metadata": {},
          "execution_count": 103
        }
      ]
    },
    {
      "cell_type": "code",
      "source": [
        "\n",
        "y_train = y_train[np.where(y_train != temp)[0]]\n",
        "label2num(y_train)\n",
        "y_train = y_train.flatten().astype(np.int32)"
      ],
      "metadata": {
        "id": "K0DPnlls1qw9"
      },
      "execution_count": 54,
      "outputs": []
    },
    {
      "cell_type": "code",
      "source": [],
      "metadata": {
        "id": "qvds5I1-CfQv"
      },
      "execution_count": 54,
      "outputs": []
    },
    {
      "cell_type": "code",
      "source": [
        "y_patient"
      ],
      "metadata": {
        "id": "or65Nv5HE1tn",
        "colab": {
          "base_uri": "https://localhost:8080/"
        },
        "outputId": "31d40fdb-2ba8-46b8-fd14-16e5fbf3d04b"
      },
      "execution_count": 55,
      "outputs": [
        {
          "output_type": "execute_result",
          "data": {
            "text/plain": [
              "array([[list(['CD'])],\n",
              "       [list(['NORM'])],\n",
              "       [list(['NORM'])],\n",
              "       [list(['CD'])],\n",
              "       [list(['HYP', 'MI'])]], dtype=object)"
            ]
          },
          "metadata": {},
          "execution_count": 55
        }
      ]
    },
    {
      "cell_type": "code",
      "source": [
        "label2num(y_patient)"
      ],
      "metadata": {
        "id": "cQJaJ_3BhZDL"
      },
      "execution_count": 56,
      "outputs": []
    },
    {
      "cell_type": "code",
      "source": [
        "y_patient_new = list()\n",
        "for i in y_patient:\n",
        "  print(np.tile(np.array(i), 10))\n",
        "  y_patient_new.append(np.tile(np.array(i), 10))\n",
        "y_patient_new = np.array(y_patient_new)"
      ],
      "metadata": {
        "id": "a2sLJEEI5Z3_",
        "colab": {
          "base_uri": "https://localhost:8080/"
        },
        "outputId": "d3fea9a9-7859-493b-a71c-8f213c8e4790"
      },
      "execution_count": 57,
      "outputs": [
        {
          "output_type": "stream",
          "name": "stdout",
          "text": [
            "[3 3 3 3 3 3 3 3 3 3]\n",
            "[0 0 0 0 0 0 0 0 0 0]\n",
            "[0 0 0 0 0 0 0 0 0 0]\n",
            "[3 3 3 3 3 3 3 3 3 3]\n",
            "[4 4 4 4 4 4 4 4 4 4]\n"
          ]
        }
      ]
    },
    {
      "cell_type": "code",
      "source": [
        "y_patient = y_patient_new.flatten().astype(np.int32)"
      ],
      "metadata": {
        "id": "CiVAtK-Ogfow"
      },
      "execution_count": 58,
      "outputs": []
    },
    {
      "cell_type": "code",
      "source": [
        "X_train = torch.tensor(X_train, dtype=torch.float32)\n",
        "y_train = torch.tensor(y_patient, dtype=torch.float32)"
      ],
      "metadata": {
        "id": "7ixRboQS0eeT"
      },
      "execution_count": 59,
      "outputs": []
    },
    {
      "cell_type": "code",
      "source": [
        "X_train.shape, y_train.shape"
      ],
      "metadata": {
        "id": "o9njzY4KCXez",
        "colab": {
          "base_uri": "https://localhost:8080/"
        },
        "outputId": "a7b17050-5d5c-4a71-c8e8-a658b7e813bd"
      },
      "execution_count": 104,
      "outputs": [
        {
          "output_type": "execute_result",
          "data": {
            "text/plain": [
              "(torch.Size([50, 1, 500, 12]), torch.Size([50]))"
            ]
          },
          "metadata": {},
          "execution_count": 104
        }
      ]
    },
    {
      "cell_type": "code",
      "source": [
        "X_train = X_train.unsqueeze(1)\n",
        "\n",
        "X_train.shape, y_train.shape"
      ],
      "metadata": {
        "colab": {
          "base_uri": "https://localhost:8080/"
        },
        "id": "pX7N3MsACIGW",
        "outputId": "d673ae8f-8d67-4fa5-8ad6-9abf8a593e08"
      },
      "execution_count": 61,
      "outputs": [
        {
          "output_type": "execute_result",
          "data": {
            "text/plain": [
              "(torch.Size([50, 1, 500, 12]), torch.Size([50]))"
            ]
          },
          "metadata": {},
          "execution_count": 61
        }
      ]
    },
    {
      "cell_type": "code",
      "source": [
        "batch_size = 1\n",
        "train_dataset = torch.utils.data.TensorDataset(X_train, y_train)\n",
        "train_loader = torch.utils.data.DataLoader(train_dataset, batch_size, shuffle=True)"
      ],
      "metadata": {
        "id": "ZDTc8cCRu_Mh"
      },
      "execution_count": 62,
      "outputs": []
    },
    {
      "cell_type": "code",
      "source": [
        "X_train.shape, y_train.shape"
      ],
      "metadata": {
        "colab": {
          "base_uri": "https://localhost:8080/"
        },
        "id": "cpRhg4fUzyHA",
        "outputId": "039a47d9-d5a2-40e8-841d-d5aab0479712"
      },
      "execution_count": 63,
      "outputs": [
        {
          "output_type": "execute_result",
          "data": {
            "text/plain": [
              "(torch.Size([50, 1, 500, 12]), torch.Size([50]))"
            ]
          },
          "metadata": {},
          "execution_count": 63
        }
      ]
    },
    {
      "cell_type": "code",
      "source": [
        "start_epoch = 0\n",
        "net.train()\n",
        "for epoch in range(start_epoch, 3):\n",
        "    loss, train_acc = train(epoch)\n",
        "    print(f'Total loss: {loss} || Acc: {train_acc}')\n",
        "    start_epoch = epoch\n",
        "    # scheduler.step(loss)"
      ],
      "metadata": {
        "colab": {
          "base_uri": "https://localhost:8080/"
        },
        "id": "6S6QtdHfzyDq",
        "outputId": "fdd86f14-ccd2-46a0-b298-c01b3e1a265d"
      },
      "execution_count": 64,
      "outputs": [
        {
          "output_type": "stream",
          "name": "stdout",
          "text": [
            "\n",
            "Epoch: 0\n",
            "Total loss: tensor([60.2171], device='cuda:0') || Acc: 58.0\n",
            "\n",
            "Epoch: 1\n",
            "Total loss: tensor([60.2171], device='cuda:0') || Acc: 58.0\n",
            "\n",
            "Epoch: 2\n",
            "Total loss: tensor([60.2171], device='cuda:0') || Acc: 58.0\n"
          ]
        }
      ]
    },
    {
      "cell_type": "markdown",
      "source": [
        "Patient Loss"
      ],
      "metadata": {
        "id": "hLrJI_wSjwI9"
      }
    },
    {
      "cell_type": "code",
      "source": [
        "train_loader = torch.utils.data.DataLoader(train_dataset, batch_size=1, shuffle=False)\n",
        "all_losses_train_patient = list()\n",
        "net.eval()\n",
        "with torch.no_grad():\n",
        "    for batch_idx, (inputs, targets) in enumerate(train_loader):\n",
        "        inputs, targets = inputs.to(device), targets.to(device)\n",
        "        outputs = net(inputs)\n",
        "        # print(inputs.shape, targets.shape, outputs.shape)\n",
        "        loss = criterion(outputs, targets.long())\n",
        "        all_losses_train_patient.append(loss)\n",
        "\n",
        "        # for inputs, labels in train_loader:\n",
        "        #     outputs = net(inputs.to(device))\n",
        "        #     loss = criterion(outputs, labels.long().to(device))\n",
        "\n",
        ""
      ],
      "metadata": {
        "id": "68Pz0vKojqcN"
      },
      "execution_count": 65,
      "outputs": []
    },
    {
      "cell_type": "code",
      "source": [
        "all_losses_train_patient = [_.cpu() for _ in all_losses_train_patient]"
      ],
      "metadata": {
        "id": "UZmNJB-6kkDD"
      },
      "execution_count": 66,
      "outputs": []
    },
    {
      "cell_type": "code",
      "source": [
        "# PLOT\n",
        "sns.set(style=\"whitegrid\")\n",
        "fig, ax = plt.subplots()\n",
        "sns.histplot(np.array(all_losses_train_patient)[:20], bins=20, color='red', label='patient', log=True, alpha=0.5, ax=ax)\n",
        "sns.histplot(np.array(all_losses_train)[:20], bins=20, color='blue', label='train', log=True, alpha=0.5, ax=ax)\n",
        "plt.title('Distribution of Losses')\n",
        "plt.legend(loc='upper left')\n",
        "plt.show()"
      ],
      "metadata": {
        "colab": {
          "base_uri": "https://localhost:8080/",
          "height": 457
        },
        "id": "J0gM91BMkG5w",
        "outputId": "d255f348-e6df-4d83-c4b8-58ca3731485c"
      },
      "execution_count": 67,
      "outputs": [
        {
          "output_type": "display_data",
          "data": {
            "text/plain": [
              "<Figure size 640x480 with 1 Axes>"
            ],
            "image/png": "[encoded data removed]"
          },
          "metadata": {}
        }
      ]
    },
    {
      "cell_type": "code",
      "source": [],
      "metadata": {
        "id": "CdHKhEpqkGNs"
      },
      "execution_count": 67,
      "outputs": []
    },
    {
      "cell_type": "code",
      "source": [
        "torch.save(net.state_dict(), 'resnet_finetuned.pth')\n",
        "shutil.copy('resnet_finetuned.pth', '/content/gdrive/MyDrive/Physionet_NPY_DATA')"
      ],
      "metadata": {
        "colab": {
          "base_uri": "https://localhost:8080/",
          "height": 36
        },
        "id": "DmmInY6EGnDS",
        "outputId": "263dff59-ac2c-4597-88f4-3addc19dc360"
      },
      "execution_count": 68,
      "outputs": [
        {
          "output_type": "execute_result",
          "data": {
            "text/plain": [
              "'/content/gdrive/MyDrive/Physionet_NPY_DATA/resnet_finetuned.pth'"
            ],
            "application/vnd.google.colaboratory.intrinsic+json": {
              "type": "string"
            }
          },
          "metadata": {},
          "execution_count": 68
        }
      ]
    },
    {
      "cell_type": "code",
      "source": [
        "import gc\n",
        "gc.collect()"
      ],
      "metadata": {
        "colab": {
          "base_uri": "https://localhost:8080/"
        },
        "id": "Hbl8R1npkbaj",
        "outputId": "b60b1dbf-7f4a-4790-f3b6-bb8c80f4224a"
      },
      "execution_count": 77,
      "outputs": [
        {
          "output_type": "execute_result",
          "data": {
            "text/plain": [
              "324"
            ]
          },
          "metadata": {},
          "execution_count": 77
        }
      ]
    },
    {
      "cell_type": "markdown",
      "source": [
        "Unlearning Part"
      ],
      "metadata": {
        "id": "qN87LYFDliag"
      }
    },
    {
      "cell_type": "code",
      "source": [
        "y_train = np.load(y_train_file_path, allow_pickle=True)\n",
        "y_train = y_train.reshape(len(y_train), 1)"
      ],
      "metadata": {
        "id": "AwWj6u45pwLA"
      },
      "execution_count": 113,
      "outputs": []
    },
    {
      "cell_type": "code",
      "source": [],
      "metadata": {
        "id": "G8OCC68YEAPk"
      },
      "execution_count": 113,
      "outputs": []
    },
    {
      "cell_type": "code",
      "source": [
        "y_train.shape"
      ],
      "metadata": {
        "colab": {
          "base_uri": "https://localhost:8080/"
        },
        "id": "TcsCcMqxEq1h",
        "outputId": "19b8cf19-0506-4439-8d78-d8164356b09c"
      },
      "execution_count": 114,
      "outputs": [
        {
          "output_type": "execute_result",
          "data": {
            "text/plain": [
              "(17302, 1)"
            ]
          },
          "metadata": {},
          "execution_count": 114
        }
      ]
    },
    {
      "cell_type": "code",
      "source": [
        "X_train = np.load(X_train_file_path, allow_pickle=True)\n",
        "X_test = np.load(X_test_file_path, allow_pickle=True)\n",
        "y_test = np.load(y_test_file_path, allow_pickle=True)\n",
        "\n",
        "y_test = y_test.reshape(len(y_test), 1)\n",
        "\n",
        "X_train = X_train[:10000,:,:]\n",
        "y_train = y_train[:10000]\n",
        "\n",
        "X_train = X_train[np.where(y_train != temp)[0]]\n",
        "X_test = X_test[np.where(y_test != temp)[0]]\n",
        "y_test = y_test[np.where(y_test != temp)[0]]"
      ],
      "metadata": {
        "id": "5m8BuOpII9Na"
      },
      "execution_count": 115,
      "outputs": []
    },
    {
      "cell_type": "code",
      "source": [
        "\n",
        "to_pop = list()\n",
        "sample_size = 5\n",
        "count = 0\n",
        "samples = 0\n",
        "for i in y_train:\n",
        "    if i[0] == ['CD'] and samples < sample_size:\n",
        "        to_pop.append(count)\n",
        "        X_train = np.delete(X_train, count, axis=0)\n",
        "        y_train = np.delete(y_train, count, axis=0)\n",
        "        samples += 1\n",
        "\n",
        "    count += 1\n",
        "\n",
        "label2num(y_test)\n",
        "\n",
        "y_test = y_test.flatten().astype(np.int32)"
      ],
      "metadata": {
        "id": "BJ0Q-bzkpTQI"
      },
      "execution_count": 116,
      "outputs": []
    },
    {
      "cell_type": "code",
      "source": [
        "temp = None\n",
        "faulty_set = list()\n",
        "count = 0\n",
        "for items in y_train:\n",
        "\n",
        "    if len(items[0]) == 0:\n",
        "       count += 1\n",
        "       temp = items\n",
        "       faulty_set.append(temp)\n",
        "       continue\n",
        "\n",
        "y_train = y_train[np.where(y_train != temp)[0]]\n",
        "\n",
        "label2num(y_train)\n",
        "y_train = y_train.flatten().astype(np.int32)\n",
        "y_train = torch.tensor(y_train, dtype=torch.float32)"
      ],
      "metadata": {
        "id": "0Pik2PO4p3O8"
      },
      "execution_count": 117,
      "outputs": []
    },
    {
      "cell_type": "code",
      "source": [
        "\n",
        "X_train = X_train.reshape(X_train.shape[0], 1, 5000, 12)\n",
        "X_test = X_test.reshape(X_test.shape[0], 1, 5000, 12)"
      ],
      "metadata": {
        "id": "2lRiWdWoppxx"
      },
      "execution_count": 118,
      "outputs": []
    },
    {
      "cell_type": "code",
      "source": [
        "\n",
        "X_train = torch.tensor(X_train, dtype=torch.float32)\n",
        "X_test = torch.tensor(X_test, dtype=torch.float32)\n",
        "y_test = torch.tensor(y_test, dtype=torch.float32)\n"
      ],
      "metadata": {
        "id": "a61ID0X_qVb-"
      },
      "execution_count": 119,
      "outputs": []
    },
    {
      "cell_type": "code",
      "source": [
        "train_dataset = torch.utils.data.TensorDataset(X_train, y_train)\n",
        "test_dataset = torch.utils.data.TensorDataset(X_test, y_test)\n"
      ],
      "metadata": {
        "id": "xFVwYrslqSwv"
      },
      "execution_count": 120,
      "outputs": []
    },
    {
      "cell_type": "code",
      "source": [
        "batch_size=16\n",
        "train_loader = torch.utils.data.DataLoader(train_dataset, batch_size, shuffle=True)\n",
        "test_loader = torch.utils.data.DataLoader(test_dataset, batch_size=batch_size, shuffle=False)"
      ],
      "metadata": {
        "id": "zorRnUh6qYwW"
      },
      "execution_count": 121,
      "outputs": []
    },
    {
      "cell_type": "code",
      "source": [
        "load_model = False\n",
        "net.train()\n",
        "if load_model:\n",
        "    checkpoint = torch.load('./checkpoint/res18.ckpt')\n",
        "    net.load_state_dict(checkpoint['net'])\n",
        "    start_epoch = checkpoint['epoch']\n",
        "else:\n",
        "    start_epoch = 0\n",
        "print('start_epoch: %s' % start_epoch)"
      ],
      "metadata": {
        "colab": {
          "base_uri": "https://localhost:8080/"
        },
        "id": "g4HFIVGRmTIw",
        "outputId": "d7098876-1887-4258-a4da-3e58a5b37f81"
      },
      "execution_count": 122,
      "outputs": [
        {
          "output_type": "stream",
          "name": "stdout",
          "text": [
            "start_epoch: 0\n"
          ]
        }
      ]
    },
    {
      "cell_type": "code",
      "source": [
        "net = ResNet34().to(device)\n",
        "# chk = torch.load('resnet.pth')\n",
        "# model.load_state_dict(chk['model_state_dict'])\n",
        "state_dict = torch.load('/content/gdrive/MyDrive/Physionet_NPY_DATA/resnet_finetuned.pth')\n",
        "\n",
        "# Apply the weights\n",
        "net.load_state_dict(state_dict)"
      ],
      "metadata": {
        "colab": {
          "base_uri": "https://localhost:8080/"
        },
        "id": "2tvtrvu6rh4S",
        "outputId": "3f16a272-2cc9-43ba-b66a-599076404187"
      },
      "execution_count": 139,
      "outputs": [
        {
          "output_type": "execute_result",
          "data": {
            "text/plain": [
              "<All keys matched successfully>"
            ]
          },
          "metadata": {},
          "execution_count": 139
        }
      ]
    },
    {
      "cell_type": "code",
      "source": [
        "train_metrics_unlearned = {\n",
        "    'epoch': list(),\n",
        "    'loss': list(),\n",
        "    'accuracy': list()\n",
        "}\n",
        "test_metrics_patients = {\n",
        "    'epoch': list(),\n",
        "    'loss': list(),\n",
        "    'accuracy': list()\n",
        "}\n",
        "train_loss_list = list()\n",
        "accuracy_list = list()\n",
        "total_epochs = 1\n",
        "start_epoch = 0\n",
        "for epoch in range(start_epoch, total_epochs):\n",
        "    loss, accuracy = train(epoch)\n",
        "    train_metrics_unlearned['epoch'].append(epoch)\n",
        "    train_metrics_unlearned['loss'].append(loss)\n",
        "    train_metrics_unlearned['accuracy'].append(accuracy)\n",
        "    print('Total loss: %.6f' % loss)\n",
        "    start_epoch = epoch\n",
        "    scheduler.step(loss)\n",
        "\n",
        "    # Validation loop\n",
        "    net.eval()\n",
        "    val_loss = 0.0\n",
        "    correct = 0\n",
        "    total = 0\n",
        "    with torch.no_grad():\n",
        "        for inputs, labels in test_loader:\n",
        "            outputs = net(inputs.to(device))\n",
        "            loss = criterion(outputs, labels.long().to(device))\n",
        "            val_loss += loss.item()\n",
        "            _, predicted = torch.max(outputs.data, 1)\n",
        "            total += labels.size(0)\n",
        "            correct += (predicted == labels.to(device)).sum().item()\n",
        "    test_metrics_patients['loss'].append(loss)\n",
        "    test_metrics_patients['accuracy'].append(100.*correct/total)\n",
        "    test_metrics_patients['epoch'].append(epoch)\n",
        "    print(f'Epoch {epoch + 1}/{total_epochs}, Loss: {loss.item():.4f}, Validation Accuracy: {100 * correct / total:.2f}%')"
      ],
      "metadata": {
        "colab": {
          "base_uri": "https://localhost:8080/"
        },
        "id": "iMyJlbN-qkDn",
        "outputId": "48f53e98-435b-4a3e-a1b9-c7c5b7af0ec0"
      },
      "execution_count": 140,
      "outputs": [
        {
          "output_type": "stream",
          "name": "stdout",
          "text": [
            "\n",
            "Epoch: 0\n",
            "Total loss: 60.217106\n",
            "Epoch 1/1, Loss: 0.9323, Validation Accuracy: 60.65%\n"
          ]
        }
      ]
    },
    {
      "cell_type": "code",
      "source": [
        "torch.save(net.state_dict(), 'resnet_unlearned.pth')\n",
        "shutil.copy('resnet_unlearned.pth', '/content/gdrive/MyDrive/Physionet_NPY_DATA')"
      ],
      "metadata": {
        "colab": {
          "base_uri": "https://localhost:8080/",
          "height": 36
        },
        "id": "0jnyicf30ioc",
        "outputId": "be54d981-da15-40e4-8a21-579767be9f3d"
      },
      "execution_count": 142,
      "outputs": [
        {
          "output_type": "execute_result",
          "data": {
            "text/plain": [
              "'/content/gdrive/MyDrive/Physionet_NPY_DATA/resnet_unlearned.pth'"
            ],
            "application/vnd.google.colaboratory.intrinsic+json": {
              "type": "string"
            }
          },
          "metadata": {},
          "execution_count": 142
        }
      ]
    },
    {
      "cell_type": "code",
      "source": [
        "# load patient pretrained resnet\n",
        "net = ResNet34().to(device)\n",
        "# chk = torch.load('resnet.pth')\n",
        "# model.load_state_dict(chk['model_state_dict'])\n",
        "state_dict = torch.load('/content/gdrive/MyDrive/Physionet_NPY_DATA/resnet_unlearned.pth')\n",
        "\n",
        "# Apply the weights\n",
        "net.load_state_dict(state_dict)\n",
        "\n",
        "test_loader = torch.utils.data.DataLoader(test_dataset, batch_size=1, shuffle=False)\n",
        "all_losses_test_unlearned = list()\n",
        "net.eval()\n",
        "with torch.no_grad():\n",
        "    for batch_idx, (inputs, targets) in enumerate(test_loader):\n",
        "        inputs, targets = inputs.to(device), targets.to(device)\n",
        "        outputs = net(inputs)\n",
        "        loss = criterion(outputs, targets.long())\n",
        "        all_losses_test_unlearned.append(loss)"
      ],
      "metadata": {
        "id": "LcL1euNN0qPI"
      },
      "execution_count": 143,
      "outputs": []
    },
    {
      "cell_type": "code",
      "source": [
        "all_losses_test_unlearned = [_.cpu() for _ in all_losses_test_unlearned]"
      ],
      "metadata": {
        "id": "R7P_BZhM0p2R"
      },
      "execution_count": 145,
      "outputs": []
    },
    {
      "cell_type": "code",
      "source": [],
      "metadata": {
        "id": "77vw7pJy0iNh"
      },
      "execution_count": null,
      "outputs": []
    },
    {
      "cell_type": "code",
      "source": [
        "# load patient pretrained resnet\n",
        "net = ResNet34().to(device)\n",
        "# chk = torch.load('resnet.pth')\n",
        "# model.load_state_dict(chk['model_state_dict'])\n",
        "state_dict = torch.load('/content/gdrive/MyDrive/Physionet_NPY_DATA/resnet.pth')\n",
        "\n",
        "# Apply the weights\n",
        "net.load_state_dict(state_dict)\n",
        "\n",
        "test_loader = torch.utils.data.DataLoader(test_dataset, batch_size=1, shuffle=False)\n",
        "all_losses_test = list()\n",
        "net.eval()\n",
        "with torch.no_grad():\n",
        "    for batch_idx, (inputs, targets) in enumerate(test_loader):\n",
        "        inputs, targets = inputs.to(device), targets.to(device)\n",
        "        outputs = net(inputs)\n",
        "        loss = criterion(outputs, targets.long())\n",
        "        all_losses_test.append(loss)"
      ],
      "metadata": {
        "id": "c9m4-yX9tLpF"
      },
      "execution_count": 124,
      "outputs": []
    },
    {
      "cell_type": "code",
      "source": [
        "all_losses_test = [_.cpu() for _ in all_losses_test]"
      ],
      "metadata": {
        "id": "esJfMyMdyzhg"
      },
      "execution_count": 125,
      "outputs": []
    },
    {
      "cell_type": "code",
      "source": [
        "import numpy as np\n",
        "\n",
        "with open('/content/x_patient.pkl', 'rb') as file:\n",
        "    x_patient = pickle.load(file)\n",
        "\n",
        "with open('/content/y_patient.pkl', 'rb') as file:\n",
        "    y_patient = pickle.load(file)\n",
        "\n",
        "num_parts = 10\n",
        "segment_length = x_patient.shape[1] // num_parts\n",
        "\n",
        "# Initialize an empty list to store the segmented data\n",
        "segmented_data = []\n",
        "\n",
        "# Split each ECG signal into segments\n",
        "for ecg_signal in x_patient:\n",
        "    ecg_segments = [ecg_signal[i:i+segment_length, :] for i in range(0, ecg_signal.shape[0], segment_length)]\n",
        "    segmented_data.extend(ecg_segments)\n",
        "\n",
        "# Convert the list of segments to a NumPy array\n",
        "segmented_data = np.array(segmented_data)\n",
        "\n",
        "print(\"Original Data Shape:\", x_patient.shape)\n",
        "print(\"Segmented Data Shape:\", segmented_data.shape)\n",
        "\n",
        "\n",
        "X_train = np.reshape(np.array(segmented_data), (50, 500, 12))\n",
        "\n",
        "y_train = np.load(y_train_file_path, allow_pickle=True)\n",
        "y_train = y_train.reshape(len(y_train), 1)\n",
        "\n",
        "temp = None\n",
        "faulty_set = list()\n",
        "count = 0\n",
        "for items in y_train:\n",
        "\n",
        "    if len(items[0]) == 0:\n",
        "       count += 1\n",
        "       temp = items\n",
        "       faulty_set.append(temp)\n",
        "       continue\n",
        "\n",
        "\n",
        "\n",
        "y_train = y_train[np.where(y_train != temp)[0]]\n",
        "label2num(y_train)\n",
        "y_train = y_train.flatten().astype(np.int32)\n",
        "\n",
        "label2num(y_patient)\n",
        "\n",
        "y_patient_new = list()\n",
        "for i in y_patient:\n",
        "  print(np.tile(np.array(i), 10))\n",
        "  y_patient_new.append(np.tile(np.array(i), 10))\n",
        "y_patient_new = np.array(y_patient_new)\n",
        "\n",
        "y_patient = y_patient_new.flatten().astype(np.int32)\n",
        "\n",
        "X_train = torch.tensor(X_train, dtype=torch.float32)\n",
        "y_train = torch.tensor(y_patient, dtype=torch.float32)\n",
        "\n",
        "X_train = X_train.unsqueeze(1)\n",
        "\n",
        "X_train.shape, y_train.shape\n",
        "\n",
        "batch_size = 1\n",
        "train_dataset = torch.utils.data.TensorDataset(X_train, y_train)\n",
        "train_loader = torch.utils.data.DataLoader(train_dataset, batch_size, shuffle=True)\n",
        "\n",
        "test_dataset = torch.utils.data.TensorDataset(X_test, y_test)\n",
        "test_loader = torch.utils.data.DataLoader(test_dataset, batch_size=batch_size, shuffle=False)\n",
        "start_epoch = 0\n",
        "net.train()\n",
        "for epoch in range(start_epoch, 3):\n",
        "    loss, train_acc = train(epoch)\n",
        "    print(f'Total loss: {loss} || Acc: {train_acc}')\n",
        "    start_epoch = epoch\n",
        "    # scheduler.step(loss)\n",
        "\n",
        "train_loader = torch.utils.data.DataLoader(train_dataset, batch_size=1, shuffle=False)\n",
        "all_losses_patient_fine_tuned = list()\n",
        "net.eval()\n",
        "with torch.no_grad():\n",
        "    for batch_idx, (inputs, targets) in enumerate(train_loader):\n",
        "        inputs, targets = inputs.to(device), targets.to(device)\n",
        "        outputs = net(inputs)\n",
        "        # print(inputs.shape, targets.shape, outputs.shape)\n",
        "        loss = criterion(outputs, targets.long())\n",
        "        all_losses_patient_fine_tuned.append(loss)\n"
      ],
      "metadata": {
        "colab": {
          "base_uri": "https://localhost:8080/"
        },
        "id": "6yoyQ6BxzFGb",
        "outputId": "7d06c4a4-5aa5-41e7-8a46-8e2ed74de9af"
      },
      "execution_count": 128,
      "outputs": [
        {
          "output_type": "stream",
          "name": "stdout",
          "text": [
            "Original Data Shape: (5, 5000, 12)\n",
            "Segmented Data Shape: (50, 500, 12)\n",
            "[3 3 3 3 3 3 3 3 3 3]\n",
            "[0 0 0 0 0 0 0 0 0 0]\n",
            "[0 0 0 0 0 0 0 0 0 0]\n",
            "[3 3 3 3 3 3 3 3 3 3]\n",
            "[4 4 4 4 4 4 4 4 4 4]\n",
            "\n",
            "Epoch: 0\n",
            "Total loss: tensor([60.2171], device='cuda:0') || Acc: 58.0\n",
            "\n",
            "Epoch: 1\n",
            "Total loss: tensor([60.2171], device='cuda:0') || Acc: 58.0\n",
            "\n",
            "Epoch: 2\n",
            "Total loss: tensor([60.2171], device='cuda:0') || Acc: 58.0\n"
          ]
        }
      ]
    },
    {
      "cell_type": "code",
      "source": [
        "all_losses_patient_fine_tuned = [_.cpu() for _ in all_losses_patient_fine_tuned]"
      ],
      "metadata": {
        "id": "jNnfffakzX6E"
      },
      "execution_count": 129,
      "outputs": []
    },
    {
      "cell_type": "markdown",
      "source": [
        "# Unlearned Patient"
      ],
      "metadata": {
        "id": "M-YK93SatMeu"
      }
    },
    {
      "cell_type": "code",
      "source": [],
      "metadata": {
        "id": "QUDtQKdGtO25"
      },
      "execution_count": null,
      "outputs": []
    },
    {
      "cell_type": "code",
      "source": [
        "import numpy as np\n",
        "\n",
        "num_parts = 10\n",
        "segment_length = x_patient.shape[1] // num_parts\n",
        "\n",
        "# Initialize an empty list to store the segmented data\n",
        "segmented_data = []\n",
        "\n",
        "# Split each ECG signal into segments\n",
        "for ecg_signal in x_patient:\n",
        "    ecg_segments = [ecg_signal[i:i+segment_length, :] for i in range(0, ecg_signal.shape[0], segment_length)]\n",
        "    segmented_data.extend(ecg_segments)\n",
        "\n",
        "# Convert the list of segments to a NumPy array\n",
        "segmented_data = np.array(segmented_data)\n",
        "\n",
        "print(\"Original Data Shape:\", x_patient.shape)\n",
        "print(\"Segmented Data Shape:\", segmented_data.shape)\n",
        "\n",
        "\n",
        "X_train = np.reshape(np.array(segmented_data), (50, 500, 12))\n",
        "\n",
        "y_train = np.load(y_train_file_path, allow_pickle=True)\n",
        "y_train = y_train.reshape(len(y_train), 1)\n",
        "\n",
        "temp = None\n",
        "faulty_set = list()\n",
        "count = 0\n",
        "for items in y_train:\n",
        "\n",
        "    if len(items[0]) == 0:\n",
        "       count += 1\n",
        "       temp = items\n",
        "       faulty_set.append(temp)\n",
        "       continue\n",
        "\n",
        "\n",
        "\n",
        "y_train = y_train[np.where(y_train != temp)[0]]\n",
        "label2num(y_train)\n",
        "y_train = y_train.flatten().astype(np.int32)\n",
        "\n",
        "label2num(y_patient)\n",
        "\n",
        "y_patient_new = list()\n",
        "for i in y_patient:\n",
        "  print(np.tile(np.array(i), 10))\n",
        "  y_patient_new.append(np.tile(np.array(i), 10))\n",
        "y_patient_new = np.array(y_patient_new)\n",
        "\n",
        "y_patient = y_patient_new.flatten().astype(np.int32)\n",
        "\n",
        "X_train = torch.tensor(X_train, dtype=torch.float32)\n",
        "y_train = torch.tensor(y_patient, dtype=torch.float32)\n",
        "\n",
        "X_train = X_train.unsqueeze(1)\n",
        "\n",
        "X_train.shape, y_train.shape\n",
        "\n",
        "batch_size = 1\n",
        "train_dataset = torch.utils.data.TensorDataset(X_train, y_train)\n",
        "train_loader = torch.utils.data.DataLoader(train_dataset, batch_size, shuffle=True)\n",
        "\n",
        "test_dataset = torch.utils.data.TensorDataset(X_test, y_test)\n",
        "test_loader = torch.utils.data.DataLoader(test_dataset, batch_size=batch_size, shuffle=False)\n",
        "start_epoch = 0\n",
        "net.train()\n",
        "for epoch in range(start_epoch, 3):\n",
        "    loss, train_acc = train(epoch)\n",
        "    print(f'Total loss: {loss} || Acc: {train_acc}')\n",
        "    start_epoch = epoch\n",
        "    # scheduler.step(loss)\n",
        "\n",
        "train_loader = torch.utils.data.DataLoader(train_dataset, batch_size=1, shuffle=False)\n",
        "all_losses_unlearned = list()\n",
        "net.eval()\n",
        "with torch.no_grad():\n",
        "    for batch_idx, (inputs, targets) in enumerate(train_loader):\n",
        "        inputs, targets = inputs.to(device), targets.to(device)\n",
        "        outputs = net(inputs)\n",
        "        # print(inputs.shape, targets.shape, outputs.shape)\n",
        "        loss = criterion(outputs, targets.long())\n",
        "        all_losses_unlearned.append(loss)\n",
        "\n",
        "        # for inputs, labels in train_loader:\n",
        "        #     outputs = net(inputs.to(device))\n",
        "        #     loss = criterion(outputs, labels.long().to(device))\n",
        "\n",
        ""
      ],
      "metadata": {
        "colab": {
          "base_uri": "https://localhost:8080/"
        },
        "id": "kn7LujlGq0o9",
        "outputId": "3d6c348b-abd8-4e2a-d343-05395d324320"
      },
      "execution_count": 100,
      "outputs": [
        {
          "output_type": "stream",
          "name": "stdout",
          "text": [
            "Original Data Shape: (5, 5000, 12)\n",
            "Segmented Data Shape: (50, 500, 12)\n",
            "[3 3 3 3 3 3 3 3 3 3]\n",
            "[0 0 0 0 0 0 0 0 0 0]\n",
            "[0 0 0 0 0 0 0 0 0 0]\n",
            "[3 3 3 3 3 3 3 3 3 3]\n",
            "[4 4 4 4 4 4 4 4 4 4]\n",
            "\n",
            "Epoch: 0\n",
            "Total loss: tensor([60.2171], device='cuda:0') || Acc: 58.0\n",
            "\n",
            "Epoch: 1\n",
            "Total loss: tensor([60.2171], device='cuda:0') || Acc: 58.0\n",
            "\n",
            "Epoch: 2\n",
            "Total loss: tensor([60.2171], device='cuda:0') || Acc: 58.0\n"
          ]
        }
      ]
    },
    {
      "cell_type": "code",
      "source": [
        "all_losses_unlearned = [_.cpu() for _ in all_losses_unlearned]"
      ],
      "metadata": {
        "id": "_dH7wCpOshdz"
      },
      "execution_count": 101,
      "outputs": []
    },
    {
      "cell_type": "code",
      "source": [
        "batch_size = 1\n",
        "train_dataset = torch.utils.data.TensorDataset(X_train, y_train)\n",
        "train_loader = torch.utils.data.DataLoader(train_dataset, batch_size, shuffle=True)"
      ],
      "metadata": {
        "id": "ITbfDm-3wIkL"
      },
      "execution_count": 105,
      "outputs": []
    },
    {
      "cell_type": "code",
      "source": [
        "# load patient pretrained resnet\n",
        "net = ResNet34().to(device)\n",
        "# chk = torch.load('resnet.pth')\n",
        "# model.load_state_dict(chk['model_state_dict'])\n",
        "state_dict = torch.load('/content/gdrive/MyDrive/Physionet_NPY_DATA/resnet.pth')\n",
        "\n",
        "# Apply the weights\n",
        "net.load_state_dict(state_dict)\n",
        "\n",
        "train_loader = torch.utils.data.DataLoader(train_dataset, batch_size=1, shuffle=False)\n",
        "all_losses_train_patient_pretrained = list()\n",
        "net.eval()\n",
        "with torch.no_grad():\n",
        "    for batch_idx, (inputs, targets) in enumerate(train_loader):\n",
        "        inputs, targets = inputs.to(device), targets.to(device)\n",
        "        outputs = net(inputs)\n",
        "        loss = criterion(outputs, targets.long())\n",
        "        all_losses_train_patient_pretrained.append(loss)"
      ],
      "metadata": {
        "id": "baCmEJdYvfl4"
      },
      "execution_count": 108,
      "outputs": []
    },
    {
      "cell_type": "code",
      "source": [
        "all_losses_train_patient_pretrained = [_.cpu() for _ in all_losses_train_patient_pretrained]"
      ],
      "metadata": {
        "id": "XHd4NalbwkCn"
      },
      "execution_count": 110,
      "outputs": []
    },
    {
      "cell_type": "code",
      "source": [
        "# PLOT\n",
        "sns.set(style=\"whitegrid\")\n",
        "fig, ax = plt.subplots()\n",
        "sns.histplot(np.array(all_losses_train_patient_pretrained), bins=20, color='red', label='patient', log=True, alpha=0.5, ax=ax)\n",
        "sns.histplot(np.array(all_losses)[:200], bins=20, color='blue', label='test', log=True, alpha=0.5, ax=ax)\n",
        "\n",
        "plt.title('Pretrained: Patient vs Test')\n",
        "plt.legend(loc='upper left')\n",
        "plt.show()"
      ],
      "metadata": {
        "colab": {
          "base_uri": "https://localhost:8080/",
          "height": 457
        },
        "id": "jYNXl5xyspa3",
        "outputId": "4a67c11b-07de-4fba-8a18-6ad861ca82a6"
      },
      "execution_count": 156,
      "outputs": [
        {
          "output_type": "display_data",
          "data": {
            "text/plain": [
              "<Figure size 640x480 with 1 Axes>"
            ],
            "image/png": "[encoded data removed]"
          },
          "metadata": {}
        }
      ]
    },
    {
      "cell_type": "code",
      "source": [
        "  # PLOT\n",
        "sns.set(style=\"whitegrid\")\n",
        "fig, ax = plt.subplots()\n",
        "sns.histplot(np.array(all_losses_patient_fine_tuned), bins=15, color='red', label='patient', log=True, alpha=0.5, ax=ax)\n",
        "sns.histplot(np.array(all_losses_test)[:len(all_losses_patient_fine_tuned)], bins=15, color='blue', label='test', log=True, alpha=0.5, ax=ax)\n",
        "plt.title('Finetuned: Patient vs Test')\n",
        "plt.legend(loc='upper left')\n",
        "plt.show()"
      ],
      "metadata": {
        "colab": {
          "base_uri": "https://localhost:8080/",
          "height": 457
        },
        "id": "hYwzJVn3ss2N",
        "outputId": "8c7ad54e-a9a6-41ad-b86d-81d2ae36cd8a"
      },
      "execution_count": 149,
      "outputs": [
        {
          "output_type": "display_data",
          "data": {
            "text/plain": [
              "<Figure size 640x480 with 1 Axes>"
            ],
            "image/png": "[encoded data removed]"
          },
          "metadata": {}
        }
      ]
    },
    {
      "cell_type": "code",
      "source": [
        "# PLOT\n",
        "sns.set(style=\"whitegrid\")\n",
        "fig, ax = plt.subplots()\n",
        "sns.histplot(np.array(all_losses_unlearned), bins=15, color='red', label='patient', log=True, alpha=0.5, ax=ax)\n",
        "sns.histplot(np.array(all_losses_test_unlearned)[:len(all_losses_unlearned)], bins=15, color='blue', label='test', log=True, alpha=0.5, ax=ax)\n",
        "plt.title('Unlearned: Patient vs Test')\n",
        "plt.legend(loc='upper left')\n",
        "plt.show()"
      ],
      "metadata": {
        "colab": {
          "base_uri": "https://localhost:8080/",
          "height": 457
        },
        "id": "_d0kh683stdl",
        "outputId": "e825649b-06b4-41eb-a0c4-7bae8cdc689d"
      },
      "execution_count": 148,
      "outputs": [
        {
          "output_type": "display_data",
          "data": {
            "text/plain": [
              "<Figure size 640x480 with 1 Axes>"
            ],
            "image/png": "[encoded data removed]"
          },
          "metadata": {}
        }
      ]
    },
    {
      "cell_type": "code",
      "source": [
        "import matplotlib.pyplot as plt\n",
        "import seaborn as sns\n",
        "import numpy as np\n",
        "\n",
        "# Assuming you have all_losses_train_patient_pretrained, all_losses, all_losses_unlearned, and all_losses_test_unlearned defined\n",
        "\n",
        "# PLOT 1\n",
        "sns.set(style=\"whitegrid\")\n",
        "fig, axes = plt.subplots(1, 2, figsize=(12, 5))\n",
        "\n",
        "# Plot for Pretrained\n",
        "sns.histplot(np.array(all_losses_train_patient_pretrained), bins=20, color='red', label='patient', log=True, alpha=0.5, ax=axes[0])\n",
        "sns.histplot(np.array(all_losses)[:200], bins=20, color='blue', label='test', log=True, alpha=0.5, ax=axes[0])\n",
        "axes[0].set_title('General Model: Patient vs Test')\n",
        "axes[0].legend(loc='upper right')\n",
        "\n",
        "# PLOT 2\n",
        "# Plot for Unlearned\n",
        "sns.histplot(np.array(all_losses_unlearned), bins=20, color='red', label='patient', log=True, alpha=0.5, ax=axes[1])\n",
        "sns.histplot(np.array(all_losses_test_unlearned)[:120], bins=20, color='blue', label='test', log=True, alpha=0.5, ax=axes[1])\n",
        "axes[1].set_title('Unlearned Model: Patient vs Test')\n",
        "axes[1].legend(loc='upper right')\n",
        "\n",
        "plt.tight_layout()\n",
        "plt.show()\n"
      ],
      "metadata": {
        "colab": {
          "base_uri": "https://localhost:8080/",
          "height": 308
        },
        "id": "ihj27eC52QUi",
        "outputId": "821541c4-ccad-4f3d-9e68-de7a2fc02746"
      },
      "execution_count": 170,
      "outputs": [
        {
          "output_type": "display_data",
          "data": {
            "text/plain": [
              "<Figure size 1200x500 with 2 Axes>"
            ],
            "image/png": "[encoded data removed]"
          },
          "metadata": {}
        }
      ]
    },
    {
      "cell_type": "code",
      "source": [
        "import matplotlib.pyplot as plt\n",
        "import seaborn as sns\n",
        "import numpy as np\n",
        "\n",
        "# Assuming you have all_losses_train_patient_pretrained, all_losses, all_losses_unlearned, and all_losses_test_unlearned defined\n",
        "\n",
        "# PLOT 1\n",
        "sns.set(style=\"whitegrid\")\n",
        "fig, axes = plt.subplots(1, 2, figsize=(12, 5))\n",
        "\n",
        "# Plot for Pretrained\n",
        "sns.histplot(np.array(all_losses_patient_fine_tuned)[:20], bins=20, color='red', label='patient', log=True, alpha=0.5, ax=axes[0])\n",
        "sns.histplot(np.array(all_losses_test)[:200], bins=20, color='blue', label='test', log=True, alpha=0.5, ax=axes[0])\n",
        "axes[0].set_title('Personalized Model: Patient vs Test')\n",
        "axes[0].legend(loc='upper right')\n",
        "\n",
        "# PLOT 2\n",
        "# Plot for Unlearned\n",
        "sns.histplot(np.array(all_losses_unlearned), bins=20, color='red', label='patient', log=True, alpha=0.5, ax=axes[1])\n",
        "sns.histplot(np.array(all_losses_test_unlearned)[:120], bins=20, color='blue', label='test', log=True, alpha=0.5, ax=axes[1])\n",
        "axes[1].set_title('Unlearned Model: Patient vs Test')\n",
        "axes[1].legend(loc='upper right')\n",
        "\n",
        "plt.tight_layout()\n",
        "plt.show()\n"
      ],
      "metadata": {
        "colab": {
          "base_uri": "https://localhost:8080/",
          "height": 308
        },
        "id": "FhW5LoUW3zW9",
        "outputId": "302fb5dc-65a2-485f-b552-f59eb3baa77f"
      },
      "execution_count": 172,
      "outputs": [
        {
          "output_type": "display_data",
          "data": {
            "text/plain": [
              "<Figure size 1200x500 with 2 Axes>"
            ],
            "image/png": "[encoded data removed]"
          },
          "metadata": {}
        }
      ]
    },
    {
      "cell_type": "code",
      "source": [
        "import re\n",
        "\n",
        "log_string = \"\"\"\n",
        "Epoch: 0\n",
        "[1,   100] loss: 209.221909 |  Acc: 43.688% (699/1600)\n",
        "[1,   200] loss: 346.057556 |  Acc: 46.156% (1477/3200)\n",
        "[1,   300] loss: 481.460724 |  Acc: 47.000% (2256/4800)\n",
        "[1,   400] loss: 611.672974 |  Acc: 48.453% (3101/6400)\n",
        "[1,   500] loss: 745.223083 |  Acc: 49.125% (3930/8000)\n",
        "[1,   600] loss: 874.585083 |  Acc: 49.719% (4773/9600)\n",
        "Total loss: 893.174988\n",
        "Epoch 1/5, Loss: 1.9355, Validation Accuracy: 44.45%\n",
        "\n",
        "Epoch: 1\n",
        "[2,   100] loss: 124.082832 |  Acc: 55.812% (893/1600)\n",
        "[2,   200] loss: 247.142136 |  Acc: 55.875% (1788/3200)\n",
        "[2,   300] loss: 366.627838 |  Acc: 56.708% (2722/4800)\n",
        "[2,   400] loss: 487.728302 |  Acc: 56.438% (3612/6400)\n",
        "[2,   500] loss: 608.107910 |  Acc: 56.375% (4510/8000)\n",
        "[2,   600] loss: 724.360474 |  Acc: 56.698% (5443/9600)\n",
        "Total loss: 743.189331\n",
        "Epoch 2/5, Loss: 1.1979, Validation Accuracy: 54.39%\n",
        "\"\"\"\n",
        "\n",
        "# Regular expressions to extract values\n",
        "epoch_pattern = re.compile(r\"Epoch: (\\d+)\")\n",
        "loss_pattern = re.compile(r\"Loss: (\\d+\\.\\d+)\")\n",
        "accuracy_pattern = re.compile(r\"Acc: (\\d+\\.\\d+)%\")\n",
        "validation_accuracy_pattern = re.compile(r\"Validation Accuracy: (\\d+\\.\\d+)%\")\n",
        "\n",
        "# Initialize lists to store parsed values\n",
        "epochs = []\n",
        "loss_values = []\n",
        "accuracy_values = []\n",
        "validation_accuracy_values = []\n",
        "\n",
        "# Split log into lines\n",
        "log_lines = log_string.split('\\n')\n",
        "\n",
        "for line in log_lines:\n",
        "    epoch_match = epoch_pattern.search(line)\n",
        "    if epoch_match:\n",
        "        epochs.append(int(epoch_match.group(1)))\n",
        "\n",
        "    loss_match = loss_pattern.search(line)\n",
        "    if loss_match:\n",
        "        loss_values.append(float(loss_match.group(1)))\n",
        "\n",
        "    accuracy_match = accuracy_pattern.search(line)\n",
        "    if accuracy_match:\n",
        "        accuracy_values.append(float(accuracy_match.group(1)))\n",
        "\n",
        "    validation_accuracy_match = validation_accuracy_pattern.search(line)\n",
        "    if validation_accuracy_match:\n",
        "        validation_accuracy_values.append(float(validation_accuracy_match.group(1)))\n",
        "\n",
        "# Print the parsed values\n",
        "print(\"Epochs:\", epochs)\n",
        "print(\"Loss values:\", loss_values)\n",
        "print(\"Accuracy values:\", accuracy_values)\n",
        "print(\"Validation Accuracy values:\", validation_accuracy_values)\n"
      ],
      "metadata": {
        "colab": {
          "base_uri": "https://localhost:8080/"
        },
        "id": "u6ympjHw1Bl7",
        "outputId": "35e0edf8-a55a-4c54-fe24-81a0c819fda3"
      },
      "execution_count": 151,
      "outputs": [
        {
          "output_type": "stream",
          "name": "stdout",
          "text": [
            "Epochs: [0, 1]\n",
            "Loss values: [1.9355, 1.1979]\n",
            "Accuracy values: [43.688, 46.156, 47.0, 48.453, 49.125, 49.719, 55.812, 55.875, 56.708, 56.438, 56.375, 56.698]\n",
            "Validation Accuracy values: [44.45, 54.39]\n"
          ]
        }
      ]
    },
    {
      "cell_type": "code",
      "source": [
        "losses = [893.174988, 743.189331, 667.898804, 573.709473, 550.925415]\n",
        "\n",
        "acc = [49.719, 56.698, 60.188, 66.198, 67.750]\n",
        "\n",
        "validation = [44.45, 54.39, 60.44, 63.81, 65.07]"
      ],
      "metadata": {
        "id": "4L9LW0-u12fC"
      },
      "execution_count": 167,
      "outputs": []
    },
    {
      "cell_type": "code",
      "source": [
        "plt.title(\"Train Loss\")\n",
        "plt.plot(losses)\n",
        "plt.xlabel(\"Epochs\", fontsize=14)\n",
        "plt.ylabel(\"Loss\", fontsize=14)\n",
        "plt.show()"
      ],
      "metadata": {
        "colab": {
          "base_uri": "https://localhost:8080/",
          "height": 481
        },
        "id": "cCx4iu_55vNI",
        "outputId": "36b23a26-6261-4b0f-b19f-3bb077fcf14b"
      },
      "execution_count": 168,
      "outputs": [
        {
          "output_type": "display_data",
          "data": {
            "text/plain": [
              "<Figure size 640x480 with 1 Axes>"
            ],
            "image/png": "[encoded data removed]"
          },
          "metadata": {}
        }
      ]
    },
    {
      "cell_type": "code",
      "source": [
        "plt.title(\"Train and Val Accuracy\")\n",
        "plt.plot(acc, label='Train')\n",
        "plt.plot(validation, label='Validation')\n",
        "plt.xlabel(\"Epochs\", fontsize=14)\n",
        "plt.ylabel(\"Accuracy\", fontsize=14)\n",
        "plt.legend(loc='upper left')\n",
        "plt.show()"
      ],
      "metadata": {
        "colab": {
          "base_uri": "https://localhost:8080/",
          "height": 481
        },
        "id": "xkxcjvY057IS",
        "outputId": "018e6223-330f-4f94-c0f9-1c8398b6ab96"
      },
      "execution_count": 176,
      "outputs": [
        {
          "output_type": "display_data",
          "data": {
            "text/plain": [
              "<Figure size 640x480 with 1 Axes>"
            ],
            "image/png": "[encoded data removed]"
          },
          "metadata": {}
        }
      ]
    },
    {
      "cell_type": "code",
      "source": [],
      "metadata": {
        "id": "t7XMIVOF6bX8"
      },
      "execution_count": null,
      "outputs": []
    }
  ]
}